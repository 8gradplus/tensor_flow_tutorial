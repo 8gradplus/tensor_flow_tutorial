{
 "cells": [
  {
   "cell_type": "code",
   "execution_count": 1,
   "metadata": {},
   "outputs": [],
   "source": [
    "import tensorflow as tf"
   ]
  },
  {
   "cell_type": "markdown",
   "metadata": {},
   "source": [
    "# Loss functions\n",
    "* In principle losses can be defined manually using tensor datatypes. \n",
    "* However as it is so common to use losses in order to train a model via optimization (reducing loss), tensor flow provides the common loss functions\n",
    "* [`tf.losses`](https://www.tensorflow.org/api_docs/python/tf/losses)\n",
    "\n",
    "# Optimizers\n",
    "* Tensor flow strongly follows the neural nets paradigm\n",
    "- Provide training data (`tf.data` or `tf.placeholder`)\n",
    "- Set up model (`tf.layers`)\n",
    "- Set up loss (`tf.losses`)\n",
    "- Find model parameters by optimizing the loss evaluated on training data\n",
    "\n",
    "* So the last ingredient are optimizers!\n",
    "- `tf.train`\n",
    "- The simplest optimizer one can imagine is gradient descent: `tf.train.GradientDescentOptimizer`\n",
    "- They have to be instantiated and thrown on a loss function (that in turn depends on input data).\n",
    "\n",
    "~~~~(.python)\n",
    "loss = ??? \n",
    "optimizer = tf.train.GradientDescentOptimizer(0.01)\n",
    "train = optimizer.minimize(loss)\n",
    "~~~~"
   ]
  },
  {
   "cell_type": "code",
   "execution_count": null,
   "metadata": {},
   "outputs": [],
   "source": []
  }
 ],
 "metadata": {
  "kernelspec": {
   "display_name": "Python 3",
   "language": "python",
   "name": "python3"
  },
  "language_info": {
   "codemirror_mode": {
    "name": "ipython",
    "version": 3
   },
   "file_extension": ".py",
   "mimetype": "text/x-python",
   "name": "python",
   "nbconvert_exporter": "python",
   "pygments_lexer": "ipython3",
   "version": "3.6.9"
  }
 },
 "nbformat": 4,
 "nbformat_minor": 4
}
