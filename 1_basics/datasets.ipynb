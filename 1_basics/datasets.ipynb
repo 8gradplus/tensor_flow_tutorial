{
 "cells": [
  {
   "cell_type": "markdown",
   "metadata": {},
   "source": [
    "# Datasets\n",
    "* `tf.data` module provids classes to throw data in a model and to manipulate data\n",
    "* In particular they can\n",
    "    - read data from in memory\n",
    "    - read data from a csv\n",
    "* In particular they are designed to deal with a large amount of data\n",
    "* [https://www.tensorflow.org/guide/datasets]\n",
    "* []\n",
    " "
   ]
  },
  {
   "cell_type": "code",
   "execution_count": null,
   "metadata": {},
   "outputs": [],
   "source": []
  }
 ],
 "metadata": {
  "kernelspec": {
   "display_name": "Python 3",
   "language": "python",
   "name": "python3"
  },
  "language_info": {
   "codemirror_mode": {
    "name": "ipython",
    "version": 3
   },
   "file_extension": ".py",
   "mimetype": "text/x-python",
   "name": "python",
   "nbconvert_exporter": "python",
   "pygments_lexer": "ipython3",
   "version": "3.6.7"
  }
 },
 "nbformat": 4,
 "nbformat_minor": 2
}
