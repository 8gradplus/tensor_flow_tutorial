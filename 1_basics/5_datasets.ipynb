{
 "cells": [
  {
   "cell_type": "markdown",
   "metadata": {},
   "source": [
    "# Datasets\n",
    "* `tf.data` module provids classes to throw data in a model and to manipulate data\n",
    "* In particular they can\n",
    "    - read data from in memory\n",
    "    - read data from a csv\n",
    "    - apply transformations\n",
    "* In particular they are designed to deal with a large amount of data\n",
    "\n",
    "- Dataset can be accessd via \n",
    "    - looping\n",
    "    - creationg a python iterator `iter(dataset)`"
   ]
  },
  {
   "cell_type": "markdown",
   "metadata": {},
   "source": [
    "### Loading from memory\n",
    "There are two methods that create datasets:\n",
    "    - `from_tensors`\n",
    "    - `from_tensor_slices`"
   ]
  },
  {
   "cell_type": "code",
   "execution_count": 1,
   "metadata": {},
   "outputs": [
    {
     "name": "stdout",
     "output_type": "stream",
     "text": [
      "tf.Tensor(\n",
      "[[1 2 3 4]\n",
      " [4 5 6 7]\n",
      " [1 1 1 1]], shape=(3, 4), dtype=int64)\n"
     ]
    },
    {
     "data": {
      "text/plain": [
       "<tf.Tensor: shape=(3, 4), dtype=int64, numpy=\n",
       "array([[1, 2, 3, 4],\n",
       "       [4, 5, 6, 7],\n",
       "       [1, 1, 1, 1]])>"
      ]
     },
     "execution_count": 1,
     "metadata": {},
     "output_type": "execute_result"
    }
   ],
   "source": [
    "import tensorflow as tf\n",
    "from tensorflow.data import Dataset\n",
    "import numpy as np\n",
    "xs = np.array([[1,2,3,4], [4,5,6,7], [1, 1, 1,1]])\n",
    "\n",
    "# return the whole array\n",
    "dataset = Dataset.from_tensors(xs)\n",
    "\n",
    "#access via iteration\n",
    "for x in dataset:\n",
    "    print(x)\n",
    "    \n",
    "# creating iterator\n",
    "ts = iter(dataset)\n",
    "next(ts)"
   ]
  },
  {
   "cell_type": "code",
   "execution_count": 2,
   "metadata": {},
   "outputs": [
    {
     "name": "stdout",
     "output_type": "stream",
     "text": [
      "<class 'tensorflow.python.data.ops.dataset_ops.TensorSliceDataset'>\n",
      "tf.Tensor([1 2 3 4], shape=(4,), dtype=int64)\n",
      "tf.Tensor([4 5 6 7], shape=(4,), dtype=int64)\n",
      "tf.Tensor([1 1 1 1], shape=(4,), dtype=int64)\n"
     ]
    }
   ],
   "source": [
    "# return slices along axis 0\n",
    "dataset = Dataset.from_tensor_slices(xs)\n",
    "print(type(dataset))\n",
    "for x in dataset:\n",
    "    print(x)"
   ]
  },
  {
   "cell_type": "code",
   "execution_count": 3,
   "metadata": {},
   "outputs": [
    {
     "data": {
      "text/plain": [
       "<tf.Tensor: shape=(4,), dtype=int64, numpy=array([1, 2, 3, 4])>"
      ]
     },
     "execution_count": 3,
     "metadata": {},
     "output_type": "execute_result"
    }
   ],
   "source": [
    "ts = iter(dataset)\n",
    "next(ts)"
   ]
  },
  {
   "cell_type": "markdown",
   "metadata": {},
   "source": [
    "### Inspecting the shape of a dataset:\n",
    "- using the method `element_spec` \n",
    "### Transformations\n",
    "- combine slices into a batch `batch` \n",
    "- `map`\n",
    "- `flat_map`\n",
    "- `repeat`\n",
    "- `shuffle` \n",
    "- `window` creates a window (e.g., for time series)\n"
   ]
  },
  {
   "cell_type": "markdown",
   "metadata": {},
   "source": [
    "### Using with Keras"
   ]
  },
  {
   "cell_type": "code",
   "execution_count": 4,
   "metadata": {},
   "outputs": [],
   "source": [
    "dataset = Dataset.from_tensor_slices(tf.range(102))"
   ]
  },
  {
   "cell_type": "code",
   "execution_count": 5,
   "metadata": {},
   "outputs": [
    {
     "name": "stdout",
     "output_type": "stream",
     "text": [
      "tf.Tensor(0, shape=(), dtype=int32)\n",
      "tf.Tensor(1, shape=(), dtype=int32)\n",
      "tf.Tensor(2, shape=(), dtype=int32)\n",
      "tf.Tensor(3, shape=(), dtype=int32)\n",
      "tf.Tensor(4, shape=(), dtype=int32)\n"
     ]
    }
   ],
   "source": [
    "# print only the first 5 elements\n",
    "for x in dataset.take(5):\n",
    "    print(x)"
   ]
  },
  {
   "cell_type": "code",
   "execution_count": 6,
   "metadata": {},
   "outputs": [
    {
     "name": "stdout",
     "output_type": "stream",
     "text": [
      "tf.Tensor([0 1 2 3 4 5 6 7 8 9], shape=(10,), dtype=int32)\n",
      "tf.Tensor([10 11 12 13 14 15 16 17 18 19], shape=(10,), dtype=int32)\n",
      "tf.Tensor([20 21 22 23 24 25 26 27 28 29], shape=(10,), dtype=int32)\n",
      "tf.Tensor([30 31 32 33 34 35 36 37 38 39], shape=(10,), dtype=int32)\n",
      "tf.Tensor([40 41 42 43 44 45 46 47 48 49], shape=(10,), dtype=int32)\n",
      "tf.Tensor([50 51 52 53 54 55 56 57 58 59], shape=(10,), dtype=int32)\n",
      "tf.Tensor([60 61 62 63 64 65 66 67 68 69], shape=(10,), dtype=int32)\n",
      "tf.Tensor([70 71 72 73 74 75 76 77 78 79], shape=(10,), dtype=int32)\n",
      "tf.Tensor([80 81 82 83 84 85 86 87 88 89], shape=(10,), dtype=int32)\n",
      "tf.Tensor([90 91 92 93 94 95 96 97 98 99], shape=(10,), dtype=int32)\n",
      "tf.Tensor([100 101], shape=(2,), dtype=int32)\n"
     ]
    }
   ],
   "source": [
    "batch = dataset.batch(10, drop_remainder=False)\n",
    "for x in batch:\n",
    "    print(x) # batch transformation returns a dataset containing tensors"
   ]
  },
  {
   "cell_type": "markdown",
   "metadata": {},
   "source": [
    "### Example Windows for Time Series\n",
    "- Use the `window` method\n",
    "- Returns a dataset of datasets"
   ]
  },
  {
   "cell_type": "code",
   "execution_count": 7,
   "metadata": {},
   "outputs": [
    {
     "name": "stdout",
     "output_type": "stream",
     "text": [
      "0 1 2 3 4 \n",
      "1 2 3 4 5 \n",
      "2 3 4 5 6 \n",
      "3 4 5 6 7 \n",
      "4 5 6 7 8 \n",
      "5 6 7 8 9 \n",
      "6 7 8 9 \n",
      "7 8 9 \n",
      "8 9 \n",
      "9 \n"
     ]
    }
   ],
   "source": [
    "xs = Dataset.range(10)\n",
    "xs = xs.window(5, shift=1)\n",
    "for window in xs:\n",
    "    for val in window:\n",
    "        print(val.numpy(), end=\" \")\n",
    "    print()"
   ]
  },
  {
   "cell_type": "code",
   "execution_count": 8,
   "metadata": {},
   "outputs": [
    {
     "name": "stdout",
     "output_type": "stream",
     "text": [
      "[0 1 2 3 4]\n",
      "[1 2 3 4 5]\n",
      "[2 3 4 5 6]\n",
      "[3 4 5 6 7]\n",
      "[4 5 6 7 8]\n",
      "[5 6 7 8 9]\n"
     ]
    }
   ],
   "source": [
    "xs = Dataset.range(10)\n",
    "xs = xs.window(5, shift=1, drop_remainder=True)\n",
    "xs = xs.flat_map(lambda window: window.batch(5))  # 5 timesteps -> 1 training batch\n",
    "for window in xs:\n",
    "    print(window.numpy())"
   ]
  },
  {
   "cell_type": "code",
   "execution_count": 9,
   "metadata": {},
   "outputs": [
    {
     "name": "stdout",
     "output_type": "stream",
     "text": [
      "[0 1 2 3] [4]\n",
      "[1 2 3 4] [5]\n",
      "[2 3 4 5] [6]\n",
      "[3 4 5 6] [7]\n",
      "[4 5 6 7] [8]\n",
      "[5 6 7 8] [9]\n"
     ]
    }
   ],
   "source": [
    "xs = Dataset.range(10)\n",
    "xs = xs.window(5, shift=1, drop_remainder=True)\n",
    "xs = xs.flat_map(lambda window: window.batch(5))  # 5 timesteps -> 1 training batch\n",
    "xs = xs.map(lambda window: (window[:-1], window[-1:])) # take the first 4 values as fetures and the last as target\n",
    "for x, y in xs:\n",
    "    print(x.numpy(), y.numpy())"
   ]
  },
  {
   "cell_type": "markdown",
   "metadata": {},
   "source": [
    "- So far we have only worked with the inner window. \n",
    "- That is we arranged the data for one time series we would like to predict\n",
    "- In a model we want to insert \"training\" batches. That is more time series in one training step\n",
    "- Wo we have to batch the outer dataset\n",
    "- ... and randomize it"
   ]
  },
  {
   "cell_type": "code",
   "execution_count": 22,
   "metadata": {},
   "outputs": [
    {
     "name": "stdout",
     "output_type": "stream",
     "text": [
      "Input: \n",
      " [[1 2 3 4]\n",
      " [3 4 5 6]]\n",
      "Output: \n",
      " [[5]\n",
      " [7]]\n",
      "Input: \n",
      " [[5 6 7 8]\n",
      " [0 1 2 3]]\n",
      "Output: \n",
      " [[9]\n",
      " [4]]\n",
      "Input: \n",
      " [[2 3 4 5]\n",
      " [4 5 6 7]]\n",
      "Output: \n",
      " [[6]\n",
      " [8]]\n"
     ]
    }
   ],
   "source": [
    "xs = Dataset.range(10)\n",
    "xs = xs.window(5, shift=1, drop_remainder=True)\n",
    "xs = xs.flat_map(lambda window: window.batch(5))  # 5 timesteps -> 1 training batch\n",
    "xs = xs.map(lambda window: (window[:-1], window[-1:])) # take the first 4 values as fetures and the last as target\n",
    "# 1. shuffle data in order to avoid sequence bias\n",
    "# 2. set outer batch size\n",
    "# 3. prefetch data: that is allow to prepare the next batch while another pice of code (training) is beeing exectued.\n",
    "# This sould be always done in order to speed up things.\n",
    "xs = xs.shuffle(buffer_size=20).batch(2).prefetch(1)\n",
    "for x, y in xs:\n",
    "    print(f\"Input: \\n {x.numpy()}\")\n",
    "    print(f\"Output: \\n {y.numpy()}\")    "
   ]
  },
  {
   "cell_type": "code",
   "execution_count": 17,
   "metadata": {},
   "outputs": [],
   "source": [
    "xs.shuffle?"
   ]
  },
  {
   "cell_type": "code",
   "execution_count": 21,
   "metadata": {},
   "outputs": [],
   "source": [
    "xs.prefetch?"
   ]
  },
  {
   "cell_type": "code",
   "execution_count": null,
   "metadata": {},
   "outputs": [],
   "source": []
  }
 ],
 "metadata": {
  "kernelspec": {
   "display_name": "Python 3",
   "language": "python",
   "name": "python3"
  },
  "language_info": {
   "codemirror_mode": {
    "name": "ipython",
    "version": 3
   },
   "file_extension": ".py",
   "mimetype": "text/x-python",
   "name": "python",
   "nbconvert_exporter": "python",
   "pygments_lexer": "ipython3",
   "version": "3.8.5"
  }
 },
 "nbformat": 4,
 "nbformat_minor": 2
}
