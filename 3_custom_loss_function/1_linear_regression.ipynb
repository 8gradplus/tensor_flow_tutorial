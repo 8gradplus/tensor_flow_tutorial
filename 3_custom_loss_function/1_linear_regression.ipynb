{
 "cells": [
  {
   "cell_type": "markdown",
   "metadata": {},
   "source": [
    "# Linear Regression - some Theory\n",
    "* [other compariative exmaples](https://www.analyticsvidhya.com/blog/2017/06/a-comprehensive-guide-for-linear-ridge-and-lasso-regression/)\n",
    "For linear regression the closed solution is known via the so called normal equation\n",
    "Todo:\n",
    "1. Specify model\n",
    "2. Speficy loss function\n",
    "2. Write down log Likelihood function\n",
    "3. Minimize + get Normal equation\n",
    "\n",
    "### Approach 1: Non-probabilisitc using loss function\n",
    "The easies approach to linear regression is to use the squared loss function, \n",
    "$$l = \\sum_{i=1}^N (y_i - \\hat y_i)^2,$$\n",
    "where $\\hat y_i$ is the predicted value and $y_i$ is the true value of sample $i$. Together with a linear, non probabilistic model for the. For feature vector $x_i$ (where the first component is per convention the constant one -aka known as intercept) the prediction is given by the linear model. In scalar product notation:\n",
    "$$y_i =  x_i^T \\theta,$$\n",
    "with coefficient vector $\\theta$. Rewriting this in Matrix notation to account for all sampels we get for the loss together with the linear model:\n",
    "$$l = (Y - X\\theta)^T (Y - X\\theta)$$\n",
    "Now we would like to find $\\theta^*$ that _minimizes_ the loss. \n",
    "Setting the derivative w.r.t. $\\theta$ of the loss function zero  gives the normal equation \n",
    "$$X^T(Y - X\\theta) = 0.$$\n",
    "If $X^T X$ is non-singular (this is the case when there are more traning examples than features because then $X^T X$ is positive definite) allows for finding the unique solutions of the normal equation, \n",
    "\n",
    "$$\\theta ^* =  \\left( X^T X  \\right)^{-1} X^T Y$$\n",
    "\n",
    "Note that this approach is non-probabilistic and thus, does not explicitly account for uncertainty  (as a probability distributions) in the data and coefficients.\n",
    "### Approach 2: Probabilistic  +  generative approach using max likelihood\n",
    "This approach introduces a probability distribution but does not explicitly consider a loss function. The  response is modelled  via a Normal distribution (\"Gauss error\") assuming constant standard deviation\n",
    "$$y_i = x_i^T \\theta + \\epsilon := \\mathcal N (x_i^T \\theta, \\sigma^2)$$\n",
    "In other words, the conditional distribtion  $p(y \\mid x, \\theta, \\sigma^2)$ is given by a Normal distribtion.\n",
    "The likelihood function is just the pdf of __all__ datapoints assuming i.i.d (this assumption in fact leads to the factorization), \n",
    "$$\\mathcal L = \\Pi_{i=1}^N p(y_i \\mid x, \\theta, \\sigma).$$\n",
    "As we are aiming to optimize $\\theta$ in a way, a striclty monotonic transformation is applied on the likelihood function. It leaves the optimum invariant. The standard procedure is thus to consider the the logarithm ot likelihood function:\n",
    "$$\\mathcal L_l = \\sum_{i=1}^N \\log p(y_i \\mid x, \\theta, \\sigma).$$\n",
    "Evaluating this expression for the Normal distribution gives\n",
    "$$\\mathcal L_l =  - \\frac{1}{2\\sigma^2}\\sum_{i=1}^N (y_i - x_i^T \\theta)^2  - \\frac{N}{2}log(2\\pi\\sigma^2) $$\n",
    "Now, we would like to _maximise_ the likelihood and thus the log likelihood with respect to $\\theta$. This is equivalent to _minimizing_ the negative of it. Throwing away terms that, don't depend on $\\theta$ gives the function for which we would like to find the minimizer. That is we want to solve this expression, \n",
    "$$\\text{argmin}_\\theta\\left( Y - X \\theta \\right )^T \\left( Y - X \\theta \\right ),$$\n",
    "where we have rewritten the sum of squares over all training data again in Matrix notation. But this is exactly the same problem as in approach one and this gives the same solution (under the same circumstances), \n",
    "\n",
    "$$\\theta ^* =  \\left( X^T X  \\right)^{-1} X^T Y$$\n",
    "\n",
    "### Idea of this tutorial\n",
    "- So far we analyitcally derived the log likelihood function\n",
    "- This gave us the motivation for using the MSE in a purely numeric (tensorflow) world\n",
    "- Or, the matrix formulation for a purely analytical solution\n",
    "\n",
    "- Now we directly optimize the log likelihood function\n",
    "- We aim to learn $\\mu$ and $\\sigma^2$ of the underlying process, a Gaussian distribuiton\n",
    "\n",
    "**We want to observe that**\n",
    "1. If we set $\\sigma^2$ to a fixed value, say 1 we will fall back to the original solution in a point estimate sense (that is we estimate y by the learned $\\mu$)\n",
    "2. We can used the learned distribution to get error bars\n",
    "3. We can also try to learn $\\sigma$ assuming it to be a scalar\n",
    "4. We can also try to learn a heteroscedasticity fashion (that is, dependent of the data)"
   ]
  },
  {
   "cell_type": "code",
   "execution_count": 1,
   "metadata": {},
   "outputs": [],
   "source": [
    "from sklearn.datasets import fetch_california_housing\n",
    "from sklearn.model_selection import train_test_split\n",
    "from collections import namedtuple\n",
    "import matplotlib.pyplot as plt\n",
    "import numpy as np\n",
    "import tensorflow as tf\n",
    "import tensorflow_probability as tfp\n",
    "tf.keras.backend.clear_session()\n",
    "\n",
    "Supervised = namedtuple(\"supervised\", [\"features\", \"target\", \"feature_names\"])\n",
    "\n",
    "def split_test_train(data):\n",
    "    X_train, X_test, Y_train, Y_test = train_test_split(data.features, data.target, test_size = 0.2, random_state=5)\n",
    "    train = Supervised(X_train, Y_train.reshape(-1, 1), feature_names=data.feature_names)\n",
    "    test = Supervised(X_test, Y_test.reshape(-1, 1), feature_names=data.feature_names)\n",
    "    return train, test \n",
    "\n",
    "\n",
    "def normalize(train: Supervised, test: Supervised):\n",
    "    mu = train.features.mean(axis=0)\n",
    "    std = train.features.std(axis=0)\n",
    "    train_scaled = Supervised(features=(train.features - mu) / std, \n",
    "                              target=train.target, \n",
    "                              feature_names=train.feature_names) \n",
    "    test_scaled = Supervised(features=(test.features - mu) / std, \n",
    "                             target=test.target, \n",
    "                             feature_names=test.feature_names)\n",
    "    return train_scaled, test_scaled\n",
    "\n",
    "\n",
    "housing = fetch_california_housing()\n",
    "train_data, test_data = normalize(*split_test_train(Supervised(housing.data, housing.target, housing.feature_names)))"
   ]
  },
  {
   "cell_type": "markdown",
   "metadata": {},
   "source": [
    "# Linear Regression via the Normal equation - with Tensorflow"
   ]
  },
  {
   "cell_type": "code",
   "execution_count": 2,
   "metadata": {},
   "outputs": [],
   "source": [
    "def add_intercept(features):\n",
    "    \"\"\"Add intercept to features\n",
    "    Todo: as an exercise use tensorflow\"\"\"\n",
    "    m, n = features.shape\n",
    "    return np.c_[np.ones((m, 1)), features]\n",
    "\n",
    "    \n",
    "def train(data):\n",
    "    X = add_intercept(data.features)\n",
    "    Y = data.target\n",
    "    XT = tf.transpose(X)\n",
    "    return tf.matmul(tf.matmul(tf.linalg.inv(tf.matmul(XT, X)), XT), Y)\n",
    "\n",
    "\n",
    "def predict(data, theta):\n",
    "    return tf.matmul( add_intercept(data.features),  theta)\n",
    "\n",
    "theta_analytic = train(train_data)\n",
    "y_pred_analytic  = predict(test_data, theta_analytic)"
   ]
  },
  {
   "cell_type": "markdown",
   "metadata": {},
   "source": [
    "# Linear Regression from directly optimizing the likelihood function\n",
    "- directly learn the likelihood function instead of using the equivalence to MSE\n",
    "- in a first step we therefore just learn $\\mu = x_i^T \\theta$ and fix $\\sigma=1$\n",
    "- So we will directly work with $\\mu$ and $\\sigma$.\n",
    "- We wish to maximise the log-likelihood \n",
    "- This is equivalent to minimizing the negative log-likelihood\n",
    "\n",
    "\n",
    "**We will implement the Model as follows:**\n",
    "1. A Model (`GaussianModel`) that will use custom layers\n",
    "2. `Gaussian` that will compute the tuple ($\\mu$, $\\sigma^2$)\n",
    "3. `Sampling` for later usage in order to compute errors. This is just sampling from the learned Gaussian, wich is specified by the learned ($\\mu$, $\\sigma^2$)\n",
    "\n",
    "**Loss function:**\n",
    "- Training requires the loss function to be the likelihood function. \n",
    "- This is implemented in `negative_log_likelihood`\n",
    "\n",
    "**Training:**\n",
    "- We write our own training loop \n",
    "- The essence is implemented in the function `train_step`\n",
    "- We could also write a  `call` method in the model and use the keras machinery with an adapted implementation of the negative log liklihood function "
   ]
  },
  {
   "cell_type": "code",
   "execution_count": 3,
   "metadata": {},
   "outputs": [],
   "source": [
    "# Model\n",
    "\n",
    "class Sampling(tf.keras.layers.Layer):\n",
    "    \"\"\"Uses (z_mean, z_log_var) to sample z, the vector encoding a digit.\"\"\"\n",
    "\n",
    "    def __init__(self, name=\"sampling\", **kwargs):\n",
    "        super(Sampling, self).__init__(name=name, **kwargs)\n",
    "    \n",
    "    def call(self, params, n_samples):\n",
    "        mu, var = params\n",
    "        std = tf.sqrt(var)\n",
    "        return tf.random.normal([n_samples], mu, std)\n",
    "\n",
    "        \n",
    "\n",
    "class Gaussian(tf.keras.layers.Layer):\n",
    "    \n",
    "    def __init__(self, out_dim, name=\"gaussian\", **kwargs):\n",
    "        super(Gaussian, self).__init__(name=name, **kwargs)\n",
    "        self.layer_mu = tf.keras.layers.Dense(out_dim, activation=\"linear\")\n",
    "        \n",
    "    def call(self, inputs):\n",
    "        # (batch_size, features) -> (batch_size, out_dim)\n",
    "        mu = self.layer_mu(inputs) \n",
    "        # (batch_size, out_dim) for consistency - could also use scalar and rely on broadcasting\n",
    "        var = tf.ones(mu.shape) \n",
    "        return mu, var\n",
    "\n",
    "    \n",
    "class GaussModel(tf.keras.Model):\n",
    "\n",
    "    def __init__(self, out_dim=1,  name=\"gauss_model\", **kwargs):\n",
    "        super(GaussModel, self).__init__(name=name, **kwargs)\n",
    "        self.gauss = Gaussian(out_dim)\n",
    "        self.sampling = Sampling()\n",
    "        \n",
    "        \n",
    "    def encode(self, inputs):\n",
    "        return  self.gauss(inputs)\n",
    "    \n",
    "    def point_estimate(self, inputs):\n",
    "        mu, var = self.encode(inputs)\n",
    "        return mu\n",
    "    \n",
    "    def sample(self, inputs, n_samples):\n",
    "        mu, var = self.encode(inputs)\n",
    "        return self.sampling((mu, var), n_samples)\n",
    "        \n",
    "\n",
    "        \n",
    "# Loss function\n",
    "\n",
    "def negative_log_likelihood(mu, var, y_true):\n",
    "    \"\"\"Loss function \n",
    "    Need to carry over varance under the sum for the case of heteroscedasticity\"\"\"\n",
    "    y = tf.cast(y_true, tf.float32)\n",
    "    a = 0.5 *  tf.math.reduce_sum(tf.math.log(2. * np.pi * var)) \n",
    "    b =   tf.math.reduce_sum((y - mu)**2. / (2. * var))\n",
    "    nll =  a + b\n",
    "    return nll"
   ]
  },
  {
   "cell_type": "code",
   "execution_count": 4,
   "metadata": {},
   "outputs": [
    {
     "name": "stdout",
     "output_type": "stream",
     "text": [
      "WARNING:tensorflow:Layer gaussian is casting an input tensor from dtype float64 to the layer's dtype of float32, which is new behavior in TensorFlow 2.  The layer has dtype float32 because its dtype defaults to floatx.\n",
      "\n",
      "If you intended to run this layer in float32, you can safely ignore this warning. If in doubt, this warning is likely only an issue if you are porting a TensorFlow 1.X model to TensorFlow 2.\n",
      "\n",
      "To change all layers to have dtype float64 by default, call `tf.keras.backend.set_floatx('float64')`. To change just this layer, pass dtype='float64' to the layer constructor. If you are the author of this layer, you can disable autocasting by passing autocast=False to the base Layer constructor.\n",
      "\n",
      "Epoch 0, negative log likelihood 80399.6953125\n",
      "Epoch 500, negative log likelihood 45958.63671875\n",
      "Epoch 1000, negative log likelihood 32941.38671875\n",
      "Epoch 1500, negative log likelihood 26033.99609375\n",
      "Epoch 2000, negative log likelihood 22258.091796875\n",
      "Epoch 2500, negative log likelihood 20446.71484375\n",
      "Epoch 3000, negative log likelihood 19743.3828125\n",
      "Epoch 3500, negative log likelihood 19536.193359375\n",
      "Epoch 4000, negative log likelihood 19490.580078125\n",
      "Epoch 4500, negative log likelihood 19481.529296875\n",
      "Epoch 5000, negative log likelihood 19479.26953125\n",
      "Epoch 5500, negative log likelihood 19478.6875\n",
      "Epoch 6000, negative log likelihood 19478.58203125\n",
      "Epoch 6500, negative log likelihood 19478.5703125\n",
      "Epoch 7000, negative log likelihood 19478.5703125\n",
      "Epoch 7500, negative log likelihood 19478.5703125\n",
      "Epoch 8000, negative log likelihood 19478.5703125\n",
      "Epoch 8500, negative log likelihood 19478.5703125\n",
      "Epoch 9000, negative log likelihood 19478.5703125\n",
      "Epoch 9500, negative log likelihood 19478.568359375\n"
     ]
    }
   ],
   "source": [
    "# Training\n",
    "\n",
    "optimizer = tf.keras.optimizers.Adam()\n",
    "batch_size=16\n",
    "gauss_model = GaussModel()\n",
    "\n",
    "\n",
    "@tf.function\n",
    "def train_step(model, x, y):\n",
    "    with tf.GradientTape() as tape:\n",
    "        mu, var = model.encode(x)\n",
    "        loss = negative_log_likelihood(mu, var, y)\n",
    "    grads = tape.gradient(loss, model.trainable_weights)\n",
    "    optimizer.apply_gradients(zip(grads, model.trainable_weights))\n",
    "    return loss\n",
    "\n",
    "\n",
    "\n",
    "epochs = 10000\n",
    "for epoch in range(epochs):\n",
    "    loss_value = train_step(gauss_model, train_data.features, train_data.target)\n",
    "    if epoch % 500 == 0:\n",
    "        print(f\"Epoch {epoch}, negative log likelihood {loss_value.numpy()}\")\n",
    "        "
   ]
  },
  {
   "cell_type": "markdown",
   "metadata": {},
   "source": [
    "### Excursion: an alternative, yet equivalent training procedure\n",
    "- Cool, we have trained our model using the (negative log) likelihood function as loss function. \n",
    "- But note we have already implemented the `point_estimate` method in our model that returns $\\mu$ of the gaussian as prediction. \n",
    "- Thus we could also use that point estimate and use as loss function the MSE for training. \n",
    "- Let's see if this is really true. \n",
    "\n",
    "We just neet to adapt the `training_step` method\n",
    "1. Use the `point_estimate` output of the model\n",
    "2. Use the MSE as Loss function"
   ]
  },
  {
   "cell_type": "code",
   "execution_count": 5,
   "metadata": {},
   "outputs": [
    {
     "name": "stdout",
     "output_type": "stream",
     "text": [
      "WARNING:tensorflow:Layer gaussian is casting an input tensor from dtype float64 to the layer's dtype of float32, which is new behavior in TensorFlow 2.  The layer has dtype float32 because its dtype defaults to floatx.\n",
      "\n",
      "If you intended to run this layer in float32, you can safely ignore this warning. If in doubt, this warning is likely only an issue if you are porting a TensorFlow 1.X model to TensorFlow 2.\n",
      "\n",
      "To change all layers to have dtype float64 by default, call `tf.keras.backend.set_floatx('float64')`. To change just this layer, pass dtype='float64' to the layer constructor. If you are the author of this layer, you can disable autocasting by passing autocast=False to the base Layer constructor.\n",
      "\n",
      "Epoch 0, negative log likelihood 8.401113510131836\n",
      "Epoch 500, negative log likelihood 3.826735734939575\n",
      "Epoch 1000, negative log likelihood 2.1066677570343018\n",
      "Epoch 1500, negative log likelihood 1.3091576099395752\n",
      "Epoch 2000, negative log likelihood 0.8886612057685852\n",
      "Epoch 2500, negative log likelihood 0.6826648712158203\n",
      "Epoch 3000, negative log likelihood 0.596088171005249\n",
      "Epoch 3500, negative log likelihood 0.5630912184715271\n",
      "Epoch 4000, negative log likelihood 0.5480766296386719\n",
      "Epoch 4500, negative log likelihood 0.538174033164978\n",
      "Epoch 5000, negative log likelihood 0.5308614373207092\n",
      "Epoch 5500, negative log likelihood 0.5259705781936646\n",
      "Epoch 6000, negative log likelihood 0.5232155919075012\n",
      "Epoch 6500, negative log likelihood 0.5219740271568298\n",
      "Epoch 7000, negative log likelihood 0.5215541124343872\n",
      "Epoch 7500, negative log likelihood 0.5214558839797974\n",
      "Epoch 8000, negative log likelihood 0.5214415788650513\n",
      "Epoch 8500, negative log likelihood 0.5214403867721558\n",
      "Epoch 9000, negative log likelihood 0.5214403867721558\n",
      "Epoch 9500, negative log likelihood 0.521440327167511\n"
     ]
    }
   ],
   "source": [
    "import time\n",
    "optimizer = tf.keras.optimizers.Adam()\n",
    "mse = tf.keras.losses.MeanSquaredError()\n",
    "batch_size=16\n",
    "gauss_model_point_estimate = GaussModel()\n",
    "\n",
    "\n",
    "@tf.function\n",
    "def train_step_point_estimate(model, x, y):\n",
    "    with tf.GradientTape() as tape:\n",
    "        y_pred = model.point_estimate(x)\n",
    "        loss = mse(y_pred, y)\n",
    "    grads = tape.gradient(loss, model.trainable_weights)\n",
    "    optimizer.apply_gradients(zip(grads, model.trainable_weights))\n",
    "    return loss\n",
    "\n",
    "\n",
    "epochs = 10000\n",
    "for epoch in range(epochs):\n",
    "    loss_value = train_step_point_estimate(gauss_model_point_estimate, train_data.features, train_data.target)\n",
    "    if epoch % 500 == 0:\n",
    "        print(f\"Epoch {epoch}, negative log likelihood {loss_value.numpy()}\")"
   ]
  },
  {
   "cell_type": "code",
   "execution_count": 6,
   "metadata": {},
   "outputs": [
    {
     "name": "stdout",
     "output_type": "stream",
     "text": [
      "MSE of analyical solution 0.536342730250191\n",
      "MSE of point estimate from maximum likelihood fit, 0.536342829009218\n",
      "MSE of MSE on mu fit, 0.5363428115273294\n"
     ]
    }
   ],
   "source": [
    "from sklearn.metrics import mean_squared_error\n",
    "print(f\"MSE of analyical solution {mean_squared_error(y_pred_analytic, test_data.target)}\")\n",
    "print(f\"MSE of point estimate from maximum likelihood fit, {mean_squared_error(gauss_model.point_estimate(test_data.features), test_data.target)}\")\n",
    "print(f\"MSE of MSE on mu fit, {mean_squared_error(gauss_model_point_estimate.point_estimate(test_data.features), test_data.target)}\")"
   ]
  },
  {
   "cell_type": "code",
   "execution_count": 7,
   "metadata": {},
   "outputs": [],
   "source": [
    "### Learning Variance"
   ]
  },
  {
   "cell_type": "code",
   "execution_count": 23,
   "metadata": {},
   "outputs": [],
   "source": [
    "class GaussianWithVariance(tf.keras.layers.Layer):\n",
    "    \n",
    "    def __init__(self, out_dim, name=\"gaussian_variance\", **kwargs):\n",
    "        super(GaussianWithVariance, self).__init__(name=name, **kwargs)\n",
    "        self.layer_mu = tf.keras.layers.Dense(out_dim, activation=\"linear\", name=\"mu\")\n",
    "        self.layer_var = tf.keras.layers.Dense(out_dim, activation=\"softmax\", name=\"variance\")\n",
    "        \n",
    "        \n",
    "    def call(self, inputs):\n",
    "        # (batch_size, features) -> (batch_size, out_dim)\n",
    "        mu = self.layer_mu(inputs) \n",
    "        var = self.layer_var(inputs)\n",
    "        return mu, var\n",
    "    \n",
    "    \n",
    "\n",
    "class GaussModelWithVariance(tf.keras.Model):\n",
    "\n",
    "    def __init__(self, out_dim=1, name=\"gauss_model_variance\", **kwargs):\n",
    "        super(GaussModelWithVariance, self).__init__(name=name, **kwargs)\n",
    "        self.gauss = GaussianWithVariance(out_dim)\n",
    "        self.sampling = Sampling()\n",
    "        \n",
    "    def encode(self, inputs):\n",
    "        return  self.gauss(inputs)\n",
    "    \n",
    "    def point_estimate(self, inputs):\n",
    "        mu, var = self.encode(inputs)\n",
    "        return mu\n",
    "    \n",
    "    def sample(self, inputs, n_samples):\n",
    "        mu, var = self.encode(inputs)\n",
    "        return self.sampling((mu, var), n_samples)\n",
    "    \n",
    "    \n",
    "# in order to makte tf.function work we need to define it again    \n",
    "    \n",
    "@tf.function\n",
    "def train_step(model, x, y):\n",
    "    with tf.GradientTape() as tape:\n",
    "        mu, var = model.encode(x)\n",
    "        loss = negative_log_likelihood(mu, var, y)\n",
    "    grads = tape.gradient(loss, model.trainable_weights)\n",
    "    optimizer.apply_gradients(zip(grads, model.trainable_weights))\n",
    "    return loss\n"
   ]
  },
  {
   "cell_type": "code",
   "execution_count": 9,
   "metadata": {},
   "outputs": [
    {
     "name": "stdout",
     "output_type": "stream",
     "text": [
      "WARNING:tensorflow:Layer gaussian_variance is casting an input tensor from dtype float64 to the layer's dtype of float32, which is new behavior in TensorFlow 2.  The layer has dtype float32 because its dtype defaults to floatx.\n",
      "\n",
      "If you intended to run this layer in float32, you can safely ignore this warning. If in doubt, this warning is likely only an issue if you are porting a TensorFlow 1.X model to TensorFlow 2.\n",
      "\n",
      "To change all layers to have dtype float64 by default, call `tf.keras.backend.set_floatx('float64')`. To change just this layer, pass dtype='float64' to the layer constructor. If you are the author of this layer, you can disable autocasting by passing autocast=False to the base Layer constructor.\n",
      "\n",
      "Epoch 0, negative log likelihood 91187.625\n",
      "Epoch 500, negative log likelihood 28491.91015625\n",
      "Epoch 1000, negative log likelihood 22386.2890625\n",
      "Epoch 1500, negative log likelihood 20394.6015625\n",
      "Epoch 2000, negative log likelihood 19796.32421875\n",
      "Epoch 2500, negative log likelihood 19620.44140625\n",
      "Epoch 3000, negative log likelihood 19548.8046875\n",
      "Epoch 3500, negative log likelihood 19509.66015625\n",
      "Epoch 4000, negative log likelihood 19489.640625\n",
      "Epoch 4500, negative log likelihood 19481.515625\n",
      "Epoch 5000, negative log likelihood 19479.10546875\n",
      "Epoch 5500, negative log likelihood 19478.62890625\n",
      "Epoch 6000, negative log likelihood 19478.572265625\n",
      "Epoch 6500, negative log likelihood 19478.5703125\n",
      "Epoch 7000, negative log likelihood 19478.5703125\n",
      "Epoch 7500, negative log likelihood 19478.568359375\n",
      "Epoch 8000, negative log likelihood 19478.568359375\n",
      "Epoch 8500, negative log likelihood 19478.5703125\n",
      "Epoch 9000, negative log likelihood 19478.5703125\n",
      "Epoch 9500, negative log likelihood 19478.5703125\n"
     ]
    }
   ],
   "source": [
    "gauss_with_variance_model = GaussModelWithVariance() \n",
    "\n",
    "epochs = 10000\n",
    "for epoch in range(epochs):\n",
    "    start_time = time.time()\n",
    "    loss_value = train_step(gauss_with_variance_model, train_data.features, train_data.target)\n",
    "    if epoch % 500 == 0:\n",
    "        print(f\"Epoch {epoch}, negative log likelihood {loss_value.numpy()}\")"
   ]
  },
  {
   "cell_type": "code",
   "execution_count": 10,
   "metadata": {},
   "outputs": [
    {
     "name": "stdout",
     "output_type": "stream",
     "text": [
      "MSE of point estimate from maximum likelihood fit, 0.5363427658685218\n"
     ]
    }
   ],
   "source": [
    "print(f\"MSE of point estimate from maximum likelihood fit, {mean_squared_error(gauss_with_variance_model.point_estimate(test_data.features), test_data.target)}\")"
   ]
  },
  {
   "cell_type": "markdown",
   "metadata": {},
   "source": [
    "### Errorbars from sampling"
   ]
  },
  {
   "cell_type": "code",
   "execution_count": 17,
   "metadata": {},
   "outputs": [],
   "source": [
    "take = 50\n",
    "xs = test_data.features[:take, :]\n",
    "ys_true = test_data.target[:take, :]\n",
    "ys_pred = gauss_with_variance_model.point_estimate(xs)\n",
    "samples = gauss_with_variance_model.sample(xs, 10000)\n",
    "high = tfp.stats.percentile(samples, 90, axis=-1)\n",
    "low = tfp.stats.percentile(samples, 10, axis=-1)"
   ]
  },
  {
   "cell_type": "code",
   "execution_count": 22,
   "metadata": {},
   "outputs": [
    {
     "data": {
      "text/plain": [
       "[array([[ 0.82789403],\n",
       "        [ 0.11540042],\n",
       "        [-0.28116804],\n",
       "        [ 0.32431254],\n",
       "        [-0.00344462],\n",
       "        [-0.04502137],\n",
       "        [-0.89615977],\n",
       "        [-0.86808175]], dtype=float32),\n",
       " array([2.0638952], dtype=float32),\n",
       " array([[0.],\n",
       "        [0.],\n",
       "        [0.],\n",
       "        [0.],\n",
       "        [0.],\n",
       "        [0.],\n",
       "        [0.],\n",
       "        [0.]], dtype=float32),\n",
       " array([0.], dtype=float32)]"
      ]
     },
     "execution_count": 22,
     "metadata": {},
     "output_type": "execute_result"
    }
   ],
   "source": [
    "_ , var = gauss_with_variance_model.encode(xs)\n",
    "var\n",
    "gauss_with_variance_model.get_weights()"
   ]
  },
  {
   "cell_type": "code",
   "execution_count": 19,
   "metadata": {},
   "outputs": [
    {
     "data": {
      "text/plain": [
       "2.5728183"
      ]
     },
     "execution_count": 19,
     "metadata": {},
     "output_type": "execute_result"
    }
   ],
   "source": [
    "delta = high - low\n",
    "np.min(delta)\n",
    "np.max(delta)"
   ]
  },
  {
   "cell_type": "code",
   "execution_count": 20,
   "metadata": {},
   "outputs": [
    {
     "data": {
      "text/plain": [
       "<matplotlib.legend.Legend at 0x7f8a600575e0>"
      ]
     },
     "execution_count": 20,
     "metadata": {},
     "output_type": "execute_result"
    },
    {
     "data": {
      "image/png": "[encoded data removed]",
      "text/plain": [
       "<Figure size 1080x360 with 1 Axes>"
      ]
     },
     "metadata": {
      "needs_background": "light"
     },
     "output_type": "display_data"
    }
   ],
   "source": [
    "fig, ax = plt.subplots(1, figsize=(15,5))\n",
    "x = range(ys_true.shape[0])\n",
    "ax.plot(x, ys_true, \"--\",  color=\"grey\", label=\"True\")\n",
    "ax.plot(x, ys_pred, \"-\",  color=\"red\", label=\"Point Estimates\")\n",
    "ax.fill_between(x, high, low, color=\"red\", alpha=.2, label=\"10-90 Interpercentile range\")\n",
    "ax.legend()"
   ]
  }
 ],
 "metadata": {
  "kernelspec": {
   "display_name": "Python 3",
   "language": "python",
   "name": "python3"
  },
  "language_info": {
   "codemirror_mode": {
    "name": "ipython",
    "version": 3
   },
   "file_extension": ".py",
   "mimetype": "text/x-python",
   "name": "python",
   "nbconvert_exporter": "python",
   "pygments_lexer": "ipython3",
   "version": "3.8.5"
  }
 },
 "nbformat": 4,
 "nbformat_minor": 4
}
