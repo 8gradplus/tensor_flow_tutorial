{
 "cells": [
  {
   "cell_type": "code",
   "execution_count": 19,
   "metadata": {},
   "outputs": [],
   "source": [
    "ALPHA = 1"
   ]
  },
  {
   "cell_type": "markdown",
   "metadata": {},
   "source": [
    "# Ridge Regression - some Theory\n",
    "\n",
    "* Todo\n",
    "\n",
    "# Get the data"
   ]
  },
  {
   "cell_type": "code",
   "execution_count": 28,
   "metadata": {},
   "outputs": [],
   "source": [
    "from sklearn.datasets import fetch_california_housing\n",
    "from sklearn.model_selection import train_test_split\n",
    "from collections import namedtuple\n",
    "import matplotlib.pyplot as plt\n",
    "import numpy as np\n",
    "import tensorflow as tf\n",
    "Supervised = namedtuple(\"supervised\", [\"features\", \"target\", \"feature_names\"])\n",
    "\n",
    "def split_test_train(data):\n",
    "    X_train, X_test, Y_train, Y_test = train_test_split(data.features, data.target, test_size = 0.2, random_state=5)\n",
    "    train = Supervised(X_train, Y_train.reshape(-1, 1), feature_names=data.feature_names)\n",
    "    test = Supervised(X_test, Y_test.reshape(-1, 1), feature_names=data.feature_names)\n",
    "    return train, test \n",
    "\n",
    "\n",
    "def normalize(train: Supervised, test: Supervised):\n",
    "    mu = train.features.mean(axis=0)\n",
    "    std = train.features.std(axis=0)\n",
    "    train_scaled = Supervised(features=(train.features - mu) / std, \n",
    "                              target=train.target, \n",
    "                              feature_names=train.feature_names) \n",
    "    test_scaled = Supervised(features=(test.features - mu) / std, \n",
    "                             target=test.target, \n",
    "                             feature_names=test.feature_names)\n",
    "    return train_scaled, test_scaled\n",
    "\n",
    "\n",
    "housing = fetch_california_housing()\n",
    "train_data, test_data = normalize(*split_test_train(Supervised(housing.data, housing.target, housing.feature_names)))"
   ]
  },
  {
   "cell_type": "markdown",
   "metadata": {},
   "source": [
    "# Ridge Regression via the Normal equation - with Tensorflow"
   ]
  },
  {
   "cell_type": "code",
   "execution_count": 29,
   "metadata": {},
   "outputs": [],
   "source": [
    "def add_intercept(features):\n",
    "    \"\"\"Add intercept to features\n",
    "    Todo: as an exercise use tensorflow\"\"\"\n",
    "    m, n = features.shape\n",
    "    return np.c_[np.ones((m, 1)), features]\n",
    "\n",
    "    \n",
    "def train(data, alpha):\n",
    "    X = add_intercept(data.features)\n",
    "    Y = data.target\n",
    "    XT = tf.transpose(X)\n",
    "    cov = tf.matmul(XT, X)\n",
    "    one = tf.eye(cov.shape[0], dtype=tf.dtypes.float64)\n",
    "    inv = tf.linalg.inv(cov + alpha * one)\n",
    "    return tf.matmul(tf.matmul(inv, XT), Y)\n",
    "\n",
    "\n",
    "def predict(data, theta):\n",
    "    return tf.matmul( add_intercept(data.features),  theta)\n",
    "\n",
    "theta_analytic = train(train_data, ALPHA)\n",
    "y_pred_analytic  = predict(test_data, theta_analytic)"
   ]
  },
  {
   "cell_type": "markdown",
   "metadata": {},
   "source": [
    "# Sklearn"
   ]
  },
  {
   "cell_type": "code",
   "execution_count": 119,
   "metadata": {},
   "outputs": [],
   "source": [
    "# For comparison perform linear regression with scikit learn\n",
    "from sklearn.linear_model import Ridge\n",
    "#from sklearn.linear_model import LinearRegression\n",
    "\n",
    "lin_model = Ridge(alpha=ALPHA, fit_intercept=True, normalize=False)\n",
    "lin_model.fit(train_data.features, train_data.target)\n",
    "theta_sklearn = tf.concat((lin_model.intercept_, lin_model.coef_.flatten()), axis=0)\n",
    "y_pred_sklearn = lin_model.predict(test_data.features)"
   ]
  },
  {
   "cell_type": "markdown",
   "metadata": {},
   "source": [
    "# Ridge Regression as a Neural Network with Tensorflow / Keras \n",
    "* Idea: use keras wit 1 layer, identitiy as activation function\n",
    "* Assume that we could not find the minimizer analytically. \n",
    "* Thus we wish to find the minimzer computationally.\n",
    "\n",
    "> **Note** the accuracy with an explicit optimizier critically hinges on the convergence behaviour of the optimizer.  In this case wie use the Adam optimizer with learning rate = 0.01. It's instructive to break the model by employing a non-convergent optimizer (e.g. RSMprops with learnin rate 0.01 for this particular case)."
   ]
  },
  {
   "cell_type": "code",
   "execution_count": 207,
   "metadata": {},
   "outputs": [
    {
     "name": "stdout",
     "output_type": "stream",
     "text": [
      "Model: \"sequential_29\"\n",
      "_________________________________________________________________\n",
      "Layer (type)                 Output Shape              Param #   \n",
      "=================================================================\n",
      "dense_29 (Dense)             (None, 1)                 9         \n",
      "=================================================================\n",
      "Total params: 9\n",
      "Trainable params: 9\n",
      "Non-trainable params: 0\n",
      "_________________________________________________________________\n"
     ]
    }
   ],
   "source": [
    "from tensorflow.keras import regularizers\n",
    "import tensorflow_docs as tfdocs\n",
    "import tensorflow_docs.plots\n",
    "import tensorflow_docs.modeling\n",
    "from tensorflow import keras\n",
    "from tensorflow.keras import layers\n",
    "import pandas as pd\n",
    "\n",
    "\n",
    "\n",
    "def plot_keras_training(history):\n",
    "    plt.figure(figsize=(15,4))\n",
    "    hist = pd.DataFrame(history.history)\n",
    "    hist['epoch'] = history.epoch\n",
    "    plotter = tfdocs.plots.HistoryPlotter(smoothing_std=2)\n",
    "    plotter.plot({'Basic': history}, metric = \"mse\")\n",
    "    #plt.ylim([0, 3])\n",
    "    #plt.xlim([0,30])\n",
    "    plt.ylabel('MSE')\n",
    "    plt.show()\n",
    "\n",
    "init_kernel = lambda shape, dtype: tf.constant(lin_model.coef_.reshape(shape), dtype=dtype)\n",
    "init_bias = lambda shape, dtype: tf.constant(lin_model.intercept_.reshape(shape), dtype=dtype)\n",
    "\n",
    "    \n",
    "def build_model():\n",
    "    \"\"\"Regularization via kernel and bias regularizer\n",
    "    Todo: via loss \n",
    "    \"\"\"\n",
    "    model = keras.Sequential([layers.Dense(1, \n",
    "                                           activation='linear', \n",
    "                                           input_shape=[8]\n",
    "                                           ,kernel_regularizer=regularizers.l2(ALPHA) \n",
    "                                           ,bias_regularizer=regularizers.l2(ALPHA)\n",
    "                                           ,kernel_initializer=init_kernel\n",
    "                                           ,bias_initializer=init_bias\n",
    "                                           \n",
    "                                          )])\n",
    "    optimizer = tf.keras.optimizers.Adam(0.001)\n",
    "    #optimizer = tf.keras.optimizers.SGD(0.001)\n",
    "    model.compile(loss='mse',\n",
    "                  optimizer=optimizer,\n",
    "                  metrics=['mse'])\n",
    "    return model\n",
    "\n",
    "model = build_model()\n",
    "model.summary()"
   ]
  },
  {
   "cell_type": "code",
   "execution_count": 208,
   "metadata": {},
   "outputs": [
    {
     "name": "stdout",
     "output_type": "stream",
     "text": [
      "\n",
      "Epoch: 0, loss:7.2198,  mse:0.5214,  \n",
      "....................................................................................................\n",
      "Epoch: 100, loss:6.2624,  mse:0.5433,  \n",
      "....................................................................................................\n",
      "Epoch: 200, loss:5.5137,  mse:0.5923,  \n",
      "....................................................................................................\n",
      "Epoch: 300, loss:4.9305,  mse:0.6645,  \n",
      "....................................................................................................\n",
      "Epoch: 400, loss:4.4787,  mse:0.7528,  \n",
      "....................................................................................................\n",
      "Epoch: 500, loss:4.1301,  mse:0.8506,  \n",
      "....................................................................................................\n",
      "Epoch: 600, loss:3.8622,  mse:0.9521,  \n",
      "....................................................................................................\n",
      "Epoch: 700, loss:3.6575,  mse:1.0532,  \n",
      "....................................................................................................\n",
      "Epoch: 800, loss:3.5024,  mse:1.1510,  \n",
      "....................................................................................................\n",
      "Epoch: 900, loss:3.3861,  mse:1.2438,  \n",
      "....................................................................................................\n",
      "Epoch: 1000, loss:3.3004,  mse:1.3308,  \n",
      "....................................................................................................\n",
      "Epoch: 1100, loss:3.2382,  mse:1.4112,  \n",
      "....................................................................................................\n",
      "Epoch: 1200, loss:3.1941,  mse:1.4847,  \n",
      "....................................................................................................\n",
      "Epoch: 1300, loss:3.1634,  mse:1.5509,  \n",
      "....................................................................................................\n",
      "Epoch: 1400, loss:3.1425,  mse:1.6095,  \n",
      "....................................................................................................\n",
      "Epoch: 1500, loss:3.1287,  mse:1.6606,  \n",
      "....................................................................................................\n",
      "Epoch: 1600, loss:3.1197,  mse:1.7043,  \n",
      "....................................................................................................\n",
      "Epoch: 1700, loss:3.1141,  mse:1.7410,  \n",
      "....................................................................................................\n",
      "Epoch: 1800, loss:3.1107,  mse:1.7712,  \n",
      "....................................................................................................\n",
      "Epoch: 1900, loss:3.1086,  mse:1.7956,  \n",
      "....................................................................................................\n",
      "Epoch: 2000, loss:3.1074,  mse:1.8148,  \n",
      "....................................................................................................\n",
      "Epoch: 2100, loss:3.1068,  mse:1.8297,  \n",
      "....................................................................................................\n",
      "Epoch: 2200, loss:3.1064,  mse:1.8410,  \n",
      "....................................................................................................\n",
      "Epoch: 2300, loss:3.1062,  mse:1.8494,  \n",
      "....................................................................................................\n",
      "Epoch: 2400, loss:3.1062,  mse:1.8554,  \n",
      "....................................................................................................\n",
      "Epoch: 2500, loss:3.1061,  mse:1.8597,  \n",
      "....................................................................................................\n",
      "Epoch: 2600, loss:3.1061,  mse:1.8627,  \n",
      "....................................................................................................\n",
      "Epoch: 2700, loss:3.1061,  mse:1.8647,  \n",
      "....................................................................................................\n",
      "Epoch: 2800, loss:3.1061,  mse:1.8660,  \n",
      "....................................................................................................\n",
      "Epoch: 2900, loss:3.1061,  mse:1.8668,  \n",
      "....................................................................................................\n",
      "Epoch: 3000, loss:3.1061,  mse:1.8673,  \n",
      "....................................................................................................\n",
      "Epoch: 3100, loss:3.1061,  mse:1.8677,  \n",
      "....................................................................................................\n",
      "Epoch: 3200, loss:3.1061,  mse:1.8678,  \n",
      "....................................................................................................\n",
      "Epoch: 3300, loss:3.1061,  mse:1.8679,  \n",
      "....................................................................................................\n",
      "Epoch: 3400, loss:3.1061,  mse:1.8680,  \n",
      "....................................................................................................\n",
      "Epoch: 3500, loss:3.1061,  mse:1.8680,  \n",
      "....................................................................................................\n",
      "Epoch: 3600, loss:3.1061,  mse:1.8680,  \n",
      "....................................................................................................\n",
      "Epoch: 3700, loss:3.1061,  mse:1.8680,  \n",
      "....................................................................................................\n",
      "Epoch: 3800, loss:3.1061,  mse:1.8680,  \n",
      "....................................................................................................\n",
      "Epoch: 3900, loss:3.1061,  mse:1.8680,  \n",
      "....................................................................................................\n",
      "Epoch: 4000, loss:3.1061,  mse:1.8680,  \n",
      "....................................................................................................\n",
      "Epoch: 4100, loss:3.1061,  mse:1.8680,  \n",
      "....................................................................................................\n",
      "Epoch: 4200, loss:3.1061,  mse:1.8680,  \n",
      "....................................................................................................\n",
      "Epoch: 4300, loss:3.1061,  mse:1.8680,  \n",
      "....................................................................................................\n",
      "Epoch: 4400, loss:3.1061,  mse:1.8680,  \n",
      "....................................................................................................\n",
      "Epoch: 4500, loss:3.1061,  mse:1.8680,  \n",
      "....................................................................................................\n",
      "Epoch: 4600, loss:3.1061,  mse:1.8680,  \n",
      "....................................................................................................\n",
      "Epoch: 4700, loss:3.1061,  mse:1.8680,  \n",
      "....................................................................................................\n",
      "Epoch: 4800, loss:3.1061,  mse:1.8680,  \n",
      "....................................................................................................\n",
      "Epoch: 4900, loss:3.1061,  mse:1.8680,  \n",
      "...................................................................................................."
     ]
    }
   ],
   "source": [
    "EPOCHS = 5000\n",
    "\n",
    "history = model.fit(\n",
    "  train_data.features, train_data.target,\n",
    "  epochs=EPOCHS, \n",
    "  batch_size = train_data.features.shape[0], validation_split = 0., verbose=0,\n",
    "  callbacks=[tfdocs.modeling.EpochDots()])"
   ]
  },
  {
   "cell_type": "code",
   "execution_count": 204,
   "metadata": {},
   "outputs": [
    {
     "data": {
      "image/png": "[encoded data removed]",
      "text/plain": [
       "<Figure size 1080x288 with 1 Axes>"
      ]
     },
     "metadata": {
      "needs_background": "light"
     },
     "output_type": "display_data"
    }
   ],
   "source": [
    "plot_keras_training(history)"
   ]
  },
  {
   "cell_type": "code",
   "execution_count": 206,
   "metadata": {},
   "outputs": [],
   "source": [
    "theta_keras = tf.concat((model.weights[1], tf.reshape(model.weights[0], [8])), axis=0)\n",
    "y_pred_keras = model.predict(test_data.features)"
   ]
  },
  {
   "cell_type": "code",
   "execution_count": 167,
   "metadata": {},
   "outputs": [],
   "source": [
    "l = model.get_layer(index=0)"
   ]
  },
  {
   "cell_type": "code",
   "execution_count": 168,
   "metadata": {},
   "outputs": [
    {
     "data": {
      "text/plain": [
       "(8, 1)"
      ]
     },
     "execution_count": 168,
     "metadata": {},
     "output_type": "execute_result"
    }
   ],
   "source": [
    "l.get_weights()[0].shape"
   ]
  },
  {
   "cell_type": "markdown",
   "metadata": {},
   "source": [
    "# Ridge Regression using the estimator API\n",
    "* within the estimator API the number of training steps is controlled via the the `dataset`\n",
    "* more precisely via the `repeat` keyword"
   ]
  },
  {
   "cell_type": "code",
   "execution_count": 33,
   "metadata": {},
   "outputs": [
    {
     "data": {
      "text/plain": [
       "'\\nfrom tensorflow.estimator import LinearRegressor\\nfrom tensorflow import feature_column\\n\\ndef input_fn(data: Supervised, train=False):\\n    #Todo: make callable class for more intuitive usage lateron\\n    raw_xs = pd.DataFrame(data.features, columns = data.feature_names)\\n    xs = {key:np.array(value) for key,value in dict(raw_xs).items()} \\n    ys = data.target\\n    ds = tf.data.Dataset.from_tensor_slices((xs, ys)).batch(raw_xs.shape[0])\\n    if train:\\n        return ds.repeat(200)\\n    return ds\\n\\nfeature_columns = [feature_column.numeric_column(f) for f in housing.feature_names]\\nlinear_regressor = LinearRegressor(feature_columns=feature_columns)\\nlinear_regressor.train(lambda: input_fn(train_data, train=True))\\ny_pred_estimator = np.array([r[\"predictions\"] for r in linear_regressor.predict(lambda: input_fn(test_data, train=False))])\\n'"
      ]
     },
     "execution_count": 33,
     "metadata": {},
     "output_type": "execute_result"
    }
   ],
   "source": [
    "\"\"\"\n",
    "from tensorflow.estimator import LinearRegressor\n",
    "from tensorflow import feature_column\n",
    "\n",
    "def input_fn(data: Supervised, train=False):\n",
    "    #Todo: make callable class for more intuitive usage lateron\n",
    "    raw_xs = pd.DataFrame(data.features, columns = data.feature_names)\n",
    "    xs = {key:np.array(value) for key,value in dict(raw_xs).items()} \n",
    "    ys = data.target\n",
    "    ds = tf.data.Dataset.from_tensor_slices((xs, ys)).batch(raw_xs.shape[0])\n",
    "    if train:\n",
    "        return ds.repeat(200)\n",
    "    return ds\n",
    "\n",
    "feature_columns = [feature_column.numeric_column(f) for f in housing.feature_names]\n",
    "linear_regressor = LinearRegressor(feature_columns=feature_columns)\n",
    "linear_regressor.train(lambda: input_fn(train_data, train=True))\n",
    "y_pred_estimator = np.array([r[\"predictions\"] for r in linear_regressor.predict(lambda: input_fn(test_data, train=False))])\n",
    "\"\"\""
   ]
  },
  {
   "cell_type": "markdown",
   "metadata": {},
   "source": [
    "# Comparision of results"
   ]
  },
  {
   "cell_type": "code",
   "execution_count": 209,
   "metadata": {},
   "outputs": [],
   "source": [
    "def mse(y_true, y_pred):\n",
    "    return tf.reduce_sum((y_true - y_pred)**2) / y_true.shape[0]"
   ]
  },
  {
   "cell_type": "code",
   "execution_count": 210,
   "metadata": {},
   "outputs": [
    {
     "data": {
      "text/plain": [
       "<tf.Tensor: shape=(), dtype=float64, numpy=0.5363392915031693>"
      ]
     },
     "execution_count": 210,
     "metadata": {},
     "output_type": "execute_result"
    }
   ],
   "source": [
    "mse(test_data.target,  y_pred_sklearn) "
   ]
  },
  {
   "cell_type": "code",
   "execution_count": 211,
   "metadata": {},
   "outputs": [
    {
     "data": {
      "text/plain": [
       "<tf.Tensor: shape=(), dtype=float64, numpy=0.5363429005540788>"
      ]
     },
     "execution_count": 211,
     "metadata": {},
     "output_type": "execute_result"
    }
   ],
   "source": [
    "mse(test_data.target,  y_pred_analytic) "
   ]
  },
  {
   "cell_type": "code",
   "execution_count": 212,
   "metadata": {},
   "outputs": [
    {
     "data": {
      "text/plain": [
       "<tf.Tensor: shape=(), dtype=float64, numpy=1.579014018327798>"
      ]
     },
     "execution_count": 212,
     "metadata": {},
     "output_type": "execute_result"
    }
   ],
   "source": [
    "mse(test_data.target,  y_pred_keras)"
   ]
  },
  {
   "cell_type": "code",
   "execution_count": 16,
   "metadata": {},
   "outputs": [
    {
     "ename": "NameError",
     "evalue": "name 'y_pred_estimator' is not defined",
     "output_type": "error",
     "traceback": [
      "\u001b[0;31m---------------------------------------------------------------------------\u001b[0m",
      "\u001b[0;31mNameError\u001b[0m                                 Traceback (most recent call last)",
      "\u001b[0;32m<ipython-input-16-aa75c1f840fd>\u001b[0m in \u001b[0;36m<module>\u001b[0;34m\u001b[0m\n\u001b[0;32m----> 1\u001b[0;31m \u001b[0mmse\u001b[0m\u001b[0;34m(\u001b[0m\u001b[0mtest_data\u001b[0m\u001b[0;34m.\u001b[0m\u001b[0mtarget\u001b[0m\u001b[0;34m,\u001b[0m  \u001b[0my_pred_estimator\u001b[0m\u001b[0;34m)\u001b[0m\u001b[0;34m\u001b[0m\u001b[0;34m\u001b[0m\u001b[0m\n\u001b[0m",
      "\u001b[0;31mNameError\u001b[0m: name 'y_pred_estimator' is not defined"
     ]
    }
   ],
   "source": [
    "mse(test_data.target,  y_pred_estimator) "
   ]
  },
  {
   "cell_type": "code",
   "execution_count": 110,
   "metadata": {},
   "outputs": [
    {
     "data": {
      "text/plain": [
       "<tf.Tensor: shape=(9,), dtype=float64, numpy=\n",
       "array([ 2.06389635,  0.82785305,  0.11548134, -0.28098196,  0.32407719,\n",
       "       -0.00341544, -0.04502633, -0.89539994, -0.86731315])>"
      ]
     },
     "execution_count": 110,
     "metadata": {},
     "output_type": "execute_result"
    }
   ],
   "source": [
    "theta_sklearn"
   ]
  },
  {
   "cell_type": "code",
   "execution_count": null,
   "metadata": {},
   "outputs": [],
   "source": [
    "theta_sklearn"
   ]
  },
  {
   "cell_type": "code",
   "execution_count": 111,
   "metadata": {},
   "outputs": [
    {
     "data": {
      "text/plain": [
       "<tf.Tensor: shape=(9,), dtype=float32, numpy=\n",
       "array([ 1.0333623 ,  0.38085666,  0.07087589,  0.04344954, -0.02072311,\n",
       "        0.00208555, -0.02143203, -0.10608892, -0.05716152], dtype=float32)>"
      ]
     },
     "execution_count": 111,
     "metadata": {},
     "output_type": "execute_result"
    }
   ],
   "source": [
    "theta_keras"
   ]
  },
  {
   "cell_type": "code",
   "execution_count": null,
   "metadata": {},
   "outputs": [],
   "source": [
    "theta_analytic"
   ]
  },
  {
   "cell_type": "code",
   "execution_count": null,
   "metadata": {},
   "outputs": [],
   "source": []
  }
 ],
 "metadata": {
  "kernelspec": {
   "display_name": "Python 3",
   "language": "python",
   "name": "python3"
  },
  "language_info": {
   "codemirror_mode": {
    "name": "ipython",
    "version": 3
   },
   "file_extension": ".py",
   "mimetype": "text/x-python",
   "name": "python",
   "nbconvert_exporter": "python",
   "pygments_lexer": "ipython3",
   "version": "3.6.9"
  }
 },
 "nbformat": 4,
 "nbformat_minor": 4
}
