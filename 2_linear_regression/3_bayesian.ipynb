{
 "cells": [
  {
   "cell_type": "markdown",
   "metadata": {},
   "source": [
    "# Linear Regression - some Theory\n",
    "1. Include intercept in formulars.\n",
    "2. Speficy loss function\n",
    "2. Write down log Likelihood function\n",
    "3. Minimize + get Normal equation\n",
    "\n",
    "### Approach 1: Non-probabilisitc using loss function\n",
    "The easies approach to linear regression is to use the squared loss function, \n",
    "$$l = \\sum_{i=1}^N (y_i - \\hat y_i)^2,$$\n",
    "where $\\hat y_i$ is the predicted value and $y_i$ is the true value of sample $i$. Together with a linear, non probabilistic model for the. For feature vector $x_i$ (where the first component is per convention the constant one -aka known as intercept) the prediction is given by the linear model. In scalar product notation:\n",
    "$$y_i =  x_i^T \\theta,$$\n",
    "with coefficient vector $\\theta$. Rewriting this in Matrix notation to account for all sampels we get for the loss together with the linear model:\n",
    "$$l = (Y - X\\theta)^T (Y - X\\theta)$$\n",
    "Now we would like to find $\\theta^*$ that _minimizes_ the loss. \n",
    "Setting the derivative w.r.t. $\\theta$ of the loss function zero  gives the normal equation \n",
    "$$X^T(Y - X\\theta) = 0.$$\n",
    "If $X^T X$ is non-singular (this is the case when there are more traning examples than features because then $X^T X$ is positive definite) allows for finding the unique solutions of the normal equation, \n",
    "\n",
    "$$\\theta ^* =  \\left( X^T X  \\right)^{-1} X^T Y$$\n",
    "\n",
    "Note that this approach is non-probabilistic and thus, does not explicitly account for uncertainty  (as a probability distributions) in the data and coefficients.\n",
    "### Approach 2: Probabilistic  +  generative approach using max likelihood\n",
    "This approach introduces a probability distribution but does not explicitly consider a loss function. The  response is modelled  via a Normal distribution (\"Gauss error\") assuming constant standard deviation\n",
    "$$y_i = x_i^T \\theta + \\epsilon := \\mathcal N (x_i^T \\theta, \\sigma^2)$$\n",
    "In other words, the conditional distribtion  $p(y \\mid x, \\theta, \\sigma^2)$ is given by a Normal distribtion.\n",
    "The likelihood function is just the pdf of __all__ datapoints assuming i.i.d (this assumption in fact leads to the factorization), \n",
    "$$\\mathcal L = \\Pi_{i=1}^N p(y_i \\mid x, \\theta, \\sigma).$$\n",
    "As we are aiming to optimize $\\theta$ in a way, a striclty monotonic transformation is applied on the likelihood function. It leaves the optimum invariant. The standard procedure is thus to consider the the logarithm ot likelihood function:\n",
    "$$\\mathcal L_l = \\sum_{i=1}^N \\log p(y_i \\mid x, \\theta, \\sigma).$$\n",
    "Evaluating this expression for the Normal distribution gives\n",
    "$$\\mathcal L_l =  - \\frac{1}{2\\sigma^2}\\sum_{i=1}^N (y_i - x_i^T \\theta)^2  - \\frac{N}{2}log(2\\pi\\sigma^2) $$\n",
    "Now, we would like to _maximise_ the likelihood and thus the log likelihood with respect to $\\theta$. This is equivalent to _minimizing_ the negative of it. Throwing away terms that, don't depend on $\\theta$ gives the function for which we would like to find the minimizer. That is we want to solve this expression, \n",
    "$$\\text{argmin}_\\theta\\left( Y - X \\theta \\right )^T \\left( Y - X \\theta \\right ),$$\n",
    "where we have rewritten the sum of squares over all training data again in Matrix notation. But this is exactly the same problem as in approach one and this gives the same solution (under the same circumstances), \n",
    "\n",
    "$$\\theta ^* =  \\left( X^T X  \\right)^{-1} X^T Y$$\n",
    "\n",
    "**Remarks**\n",
    "* Note that this procedure only puts a probablilty distribution on the response $y$ while treating the remaining ingredients as variables (via the conditional pdf Ansatz). \n",
    "* This already implies that in this context the solutions $\\theta^*$ just tell how the pdf is parametrized (not even completely as we did not consider the optimum value of $\\sigma$).\n",
    "* In either case this approach does not really tell us how to predict a specific value $y$ for a given $x$. It just tells us the corresponding distribution of $y$. The fundamental reason is that we did not make any use of a loss function in this approach. \n",
    "* Pragmatically and in practice  of course, the prediction is made by plugging into the linear model as e.g. in the first appraoch\n",
    "* Note that a constant value for $\\sigma$ is called homoscedasticity. This implies that the variance does may not be a function of the features but only the mean within the Normal model for the response.\n",
    "* Furhtermore note that this approach does not consider uncertainties in the paramters. This would eventually require a Bayesian approach. \n",
    "\n",
    "\n",
    "### Bayesion models for linear regressions\n",
    "#### Model specification \n",
    "For a Bayesion approach we need the generative model from above \n",
    "$$y_i = x_i^T \\theta + \\epsilon := \\mathcal N (x_i^T \\theta, \\sigma^2)$$\n",
    "Together with a Prior for the model parameters: \n",
    "$$p(\\theta) := \\mathcal N (\\theta | \\mu_0, \\Sigma_0) $$\n",
    "\n",
    "* So the **prior** of $\\theta$ is itself parametrized by a mean $\\mu_0$ and $\\Sigma_\\0$. \n",
    "* As the normal distribution is conjugate to itself this choice will eventually yield analytic solutions.  \n",
    "* In this model we _assume_ that $\\sigma^2$ is known. We only want to learn the posterior for the model parameters $\\theta$\n",
    "\n",
    "\n",
    "#### Several classes of Bayesian models\n",
    "* In general the class of different models is obtained by\n",
    "* Different prior assumptions on the model paramaters. I.e., further constraining the prior $p(\\theta)$\n",
    "\n",
    "\n",
    "\n",
    "#### Inference \n",
    "* Corresponds to finding the posterior on the weights (given the data). \n",
    "* The basic ingredient for the joint (that in turn leads to the posterior) is the likelihood over all data as given above and the prior.\n",
    "\n",
    "$$p(\\theta | \\mathcal D, \\sigma^2, \\mu, \\Sigma) \\propto \\mathcal N (y | X^T\\theta, \\sigma^2) \\mathcal N (\\theta | \\mu, \\Sigma) = \\mathcal N (\\theta | \\mu_\\theta, \\Sigma_\\theta)  $$ \n",
    "* This gives again a Normal distribution with parameters \n",
    "$$\\Sigma_\\theta :=  \\left( \\Sigma_0^{-1}  + \\frac{1}{\\sigma^2}X^TX\\right)^{-1}$$\n",
    "$$\\mu_\\theta := \\Sigma_\\theta \\Sigma_0^{-1}\\mu_0 + \\frac{1}{\\sigma^2}\\Sigma_\\theta X^Ty$$\n",
    "\n",
    "\n",
    "\n",
    "#### Prediction\n",
    "* Corresponds to finding the pdf of a new $y^*$ given a new $x^*$ the historic data $\\mathcal D$, and (prior) model assumptions, $\\sigma^2$, $\\Sigma_0$, and $\\mu_0$. \n",
    "\n",
    "$$p(y^* | x^*, \\mathcal D, \\sigma, \\Sigma_0,  \\mu_0) = \\int d\\, \\theta ~ p(y^* | x^*, \\theta, \\sigma ) p(\\theta | \\mathcal D, \\Sigma_0, \\mu_0) \\\\ \n",
    "= \\int d \\theta \\, \\mathcal N(y^* | x^{*T}\\theta, \\sigma^2 ) \\,  p(\\theta | \\mathcal D, \\Sigma_0, \\mu_0) \\\\ \n",
    "= \\mathcal N (y^* | x^{*T}\\mu_\\theta, ~  \\sigma^2 + x^{*T} \\Sigma_\\theta x^{*}) $$ \n",
    "\n",
    "* So the expectation value of this prediction is given by the expectation value of the  $\\theta$-posterior, $\\mu$\n",
    "* The variance is determined by two contributions: \n",
    "    - by the apriori assumed variance of the observation noise $\\sigma^2$\n",
    "    - the variance in the parameters $\\Sigma$. \n",
    "* The latter contribution depends on how close a new datapoint is to the the training points.\n",
    "\n",
    "\n",
    "#### Remarks\n",
    "* So far it is assumed that $\\sigma$ is known. If we relax this requirement and try to learn $\\sigma$ as well than still a analytic solutions exist (see Murphy Chap 7.6.3 and 4.6.3). \n",
    "* But for the time beeing we assume that $\\sigma^2$ is known. \n",
    "* In the follwing we are treating special cases of the Bayesian approach presented so far"
   ]
  },
  {
   "cell_type": "markdown",
   "metadata": {},
   "source": [
    "### Apporach 4: Uncorrelated Bayesian Approach\n",
    "A Bayesian linar regression is a straightforward generalization, \n",
    "#### The model:\n",
    "Generative Process: $$y_i = x_i^T \\theta + \\epsilon \\propto \\mathcal N (y_i  | x_i^T \\theta, \\sigma^2)$$\n",
    "Prior on model Parameters: $$p(\\theta)  \\propto \\mathcal N (\\theta | 0, \\lambda ^{-1} \\mathbb 1 ) $$\n",
    "\n",
    "Making contact to the general case above we have: \n",
    "$$\n",
    "\\Sigma_0 =  \\lambda ^{-1} \\mathbb 1 \\\\ \n",
    "\\mu_0 = 0 $$\n",
    "\n",
    "\n",
    "#### Learning\n",
    "*  Follows from the general case above:  \n",
    "$$p(\\theta | X, \\sigma^2, \\lambda) = \\mathcal N \\left(\\theta ~ |~ \\mu_\\theta, \\Sigma_\\theta\\right)$$\n",
    "with \n",
    "$$\\mu_\\theta = \\left(X^TX + \\lambda \\sigma^2 \\mathbb 1\\right)^{-1}X^TY$$\n",
    "$$\\Sigma_\\theta =  \\left( \\lambda \\mathbb 1 + \\frac{1}{\\sigma^2} X^TX\\right)^{-1}$$\n",
    "* Note the feature correlation term the makes the posterior correlated!\n",
    "\n",
    "#### Inference \n",
    "Is given by the general case above\n",
    "$$p(y^* | x^*, \\sigma^2, \\lambda, \\mathcal D)= \\mathcal N (y^* | x^{*T}\\mu_\\theta, ~  \\sigma^2 + x^{*T} \\Sigma_\\theta x^{*})$$\n",
    "\n",
    "#### Ridge Regression as limiting case\n",
    "* Learning\n",
    "* $\\lambda \\sigma ^2 \\rightarrow \\lambda$ (regularization parameter)\n",
    "* $\\langle p(\\theta ~|~ \\mathcal D, \\lambda, \\sigma^2) \\rangle = \\left(XX^T + \\lambda \\mathbb 1 \\right)XY$ Estimator of ridge regression\n",
    "* Prediction\n",
    "* $\\langle p(y^* ~|~ x^* \\sigma^2 \\lambda, \\mathcal D)\\rangle = \\theta^T x^*$ (= Ridge Regression prediction)\n",
    "\n",
    "\n",
    "\n",
    "### Remarks\n",
    "References:\n",
    "- Murphy, Chap. 7\n",
    "- [Georg](https://github.com/yedivanseven/Bayesian/blob/master/LinearFit.ipynb)\n",
    "- https://brendanhasz.github.io/2018/12/03/tfp-regression\n",
    "- https://www.youtube.com/watch?v=Nr6jyodaFDo\n",
    "- https://stackoverflow.com/questions/59371283/bayesian-linear-regression-with-tensorflow-probability\n",
    "Approaches: \n",
    "- Via max likelihood https://www.quantstart.com/articles/Maximum-Likelihood-Estimation-for-Linear-Regression\n",
    "- Minimize quadratic error directly\n",
    "\n",
    "- Tensorflow probablilty introduction: \n",
    "\n",
    "https://github.com/tensorflow/probability/blob/master/tensorflow_probability/examples/jupyter_notebooks/TensorFlow_Probability_Case_Study_Covariance_Estimation.ipynb\n",
    "\n",
    "https://github.com/tensorflow/probability/blob/master/tensorflow_probability/examples/jupyter_notebooks/Generalized_Linear_Models.ipynb\n",
    "\n",
    "# Observations\n",
    "* Heavily dependent on the modelparameters $\\lambda, \\sigma^2$\n",
    "* Which are determined by hand\n",
    "\n",
    "# Get the data"
   ]
  },
  {
   "cell_type": "code",
   "execution_count": 1,
   "metadata": {},
   "outputs": [
    {
     "name": "stdout",
     "output_type": "stream",
     "text": [
      "Theta: [[-0.5818014]]\n",
      "Std: 1\n"
     ]
    }
   ],
   "source": [
    "import numpy as np|\n",
    "import tensorflow as tf\n",
    "N = 100 #number of datapoints to generate\n",
    "D = 1   #number of dimensions\n",
    "STD = 1\n",
    "theta = tf.random.normal(shape=[D, 1], stddev=1)\n",
    "print(\"Theta:\", theta.numpy())\n",
    "x = tf.random.normal(shape=[N, D])\n",
    "y = tf.random.normal(shape=[N, 1], mean=tf.matmul(x, theta), stddev=STD)\n",
    "print(\"Std:\", STD)\n",
    "\n",
    "# Make a TensorFlow Dataset from training data\n",
    "data_train = tf.data.Dataset.from_tensor_slices((x, y)).shuffle(10000).batch(N)"
   ]
  },
  {
   "cell_type": "markdown",
   "metadata": {},
   "source": [
    "# Analytical solution"
   ]
  },
  {
   "cell_type": "code",
   "execution_count": 2,
   "metadata": {},
   "outputs": [],
   "source": [
    "def fit_theta_parameters(x, s_square, l):\n",
    "    inv_sigma  = l * tf.eye(x.shape[1])  +  tf.matmul(x, x, True) / s_square\n",
    "    sigma = tf.linalg.inv(inv_sigma)\n",
    "    mu = s_square * tf.matmul(sigma,  tf.matmul(x, y, transpose_a=True))\n",
    "    return mu, sigma\n",
    "\n",
    "def predict(mu, sigma):\n",
    "    raise NotImplementedError\n",
    "    \n",
    "    \n",
    "\n",
    "def draw_from_theta_posterior(mu, std, n_samples):\n",
    "    \"\"\"Todo: Take Multinormal\"\"\"\n",
    "    return tf.random.normal(shape=[n_samples], mean=mu, stddev=std)"
   ]
  },
  {
   "cell_type": "code",
   "execution_count": 3,
   "metadata": {},
   "outputs": [],
   "source": [
    "from tensorflow_core.data import Dataset as tfds\n",
    "from tensorflow_probability import distributions as tfd\n",
    "from matplotlib import pyplot as plt\n",
    "\n",
    "def plot(ds: tfds, mu, std): \n",
    "    assert D == 1, \"this plot assumes one feature only\"\n",
    "    fig, ax = plt.subplots(nrows=2, figsize=(15,8))\n",
    "    iterator = iter(ds)\n",
    "    data = next(iterator) # todo iterate correctly\n",
    "    ax[0].plot(data[0], data[1], \"o\", color=\"red\", alpha=.5)\n",
    "    xs = tf.linspace(min(data[0])[0], max(data[0])[0], 100)\n",
    "    ax[0].plot(xs, tf.reshape(mu * xs, [-1]), \"--\", color=\"k\", lw=1, label=r\"$\\langle\\theta\\rangle$\")\n",
    "    ax[0].grid()\n",
    "    ax[0].set_ylabel(\"y\", fontsize=12)\n",
    "    ax[0].set_xlabel(\"x\", fontsize=12)\n",
    "    \n",
    "    ax[1].set_ylabel(r\"$p(\\theta)$\", fontsize=12)\n",
    "    ax[1].set_xlabel(r\"$\\theta$\", fontsize=12)\n",
    "    factor = 5\n",
    "    xs = tf.linspace((mu - factor * std)[0, 0], (mu + factor * std)[0, 0], 300)\n",
    "    dist = tfd.Normal(loc=mu, scale=std)\n",
    "    ys = dist.prob(xs)\n",
    "    ax[1].plot(xs, tf.reshape(ys, [-1]), color=\"red\", alpha=.5)\n",
    "    #ax[1].grid()\n",
    "    ax[1].set_yticks([])\n",
    "    ax[0].legend()"
   ]
  },
  {
   "cell_type": "code",
   "execution_count": 4,
   "metadata": {},
   "outputs": [
    {
     "data": {
      "image/png": "[encoded data removed]",
      "text/plain": [
       "<Figure size 1080x576 with 2 Axes>"
      ]
     },
     "metadata": {
      "needs_background": "light"
     },
     "output_type": "display_data"
    }
   ],
   "source": [
    "mu, std = fit_theta_parameters(x, 1, 0.0001)\n",
    "#samples = draw_from_theta_posterior(mu, std, 10000)\n",
    "#tf.reduce_mean(samples, axis=1)\n",
    "\n",
    "plot(data_train, mu, std)"
   ]
  },
  {
   "cell_type": "markdown",
   "metadata": {},
   "source": [
    "# Neural Network with Tensorflow / Keras "
   ]
  },
  {
   "cell_type": "code",
   "execution_count": 21,
   "metadata": {},
   "outputs": [
    {
     "ename": "TypeError",
     "evalue": "in converted code:\n\n    /home/viktor/.local/lib/python3.6/site-packages/tensorflow_probability/python/layers/distribution_layer.py:251 call\n        inputs, *args, **kwargs)\n    /home/viktor/.local/lib/python3.6/site-packages/tensorflow_core/python/keras/layers/core.py:846 call\n        result = self.function(inputs, **kwargs)\n    /home/viktor/.local/lib/python3.6/site-packages/tensorflow_probability/python/layers/distribution_layer.py:171 _fn\n        d = make_distribution_fn(*fargs, **fkwargs)\n    <ipython-input-21-a15f92ca77c1>:9 <lambda>\n        tfp.layers.DistributionLambda(lambda t: tfd.Normal(loc=[..., t], scale=1))\n    </home/viktor/.local/lib/python3.6/site-packages/decorator.py:decorator-gen-239>:2 __init__\n        \n    /home/viktor/.local/lib/python3.6/site-packages/tensorflow_probability/python/distributions/distribution.py:284 wrapped_init\n        default_init(self_, *args, **kwargs)\n    /home/viktor/.local/lib/python3.6/site-packages/tensorflow_probability/python/distributions/normal.py:138 __init__\n        loc, dtype=dtype, name='loc')\n    /home/viktor/.local/lib/python3.6/site-packages/tensorflow_probability/python/internal/tensor_util.py:115 convert_nonref_to_tensor\n        value, dtype=dtype, dtype_hint=dtype_hint, name=name)\n    /home/viktor/.local/lib/python3.6/site-packages/tensorflow_core/python/framework/ops.py:1256 convert_to_tensor_v2\n        as_ref=False)\n    /home/viktor/.local/lib/python3.6/site-packages/tensorflow_core/python/framework/ops.py:1314 convert_to_tensor\n        ret = conversion_func(value, dtype=dtype, name=name, as_ref=as_ref)\n    /home/viktor/.local/lib/python3.6/site-packages/tensorflow_core/python/ops/array_ops.py:1368 _autopacking_conversion_function\n        return _autopacking_helper(v, dtype, name or \"packed\")\n    /home/viktor/.local/lib/python3.6/site-packages/tensorflow_core/python/ops/array_ops.py:1303 _autopacking_helper\n        constant_op.constant(elem, dtype=dtype, name=str(i)))\n    /home/viktor/.local/lib/python3.6/site-packages/tensorflow_core/python/framework/constant_op.py:258 constant\n        allow_broadcast=True)\n    /home/viktor/.local/lib/python3.6/site-packages/tensorflow_core/python/framework/constant_op.py:296 _constant_impl\n        allow_broadcast=allow_broadcast))\n    /home/viktor/.local/lib/python3.6/site-packages/tensorflow_core/python/framework/tensor_util.py:451 make_tensor_proto\n        _AssertCompatible(values, dtype)\n    /home/viktor/.local/lib/python3.6/site-packages/tensorflow_core/python/framework/tensor_util.py:331 _AssertCompatible\n        (dtype.name, repr(mismatch), type(mismatch).__name__))\n\n    TypeError: Expected float32, got Ellipsis of type 'ellipsis' instead.\n",
     "output_type": "error",
     "traceback": [
      "\u001b[0;31m---------------------------------------------------------------------------\u001b[0m",
      "\u001b[0;31mTypeError\u001b[0m                                 Traceback (most recent call last)",
      "\u001b[0;32m<ipython-input-21-a15f92ca77c1>\u001b[0m in \u001b[0;36m<module>\u001b[0;34m\u001b[0m\n\u001b[1;32m     13\u001b[0m     \u001b[0;32mreturn\u001b[0m \u001b[0mmodel\u001b[0m\u001b[0;34m\u001b[0m\u001b[0;34m\u001b[0m\u001b[0m\n\u001b[1;32m     14\u001b[0m \u001b[0;34m\u001b[0m\u001b[0m\n\u001b[0;32m---> 15\u001b[0;31m \u001b[0mmodel\u001b[0m \u001b[0;34m=\u001b[0m \u001b[0mbuild_model\u001b[0m\u001b[0;34m(\u001b[0m\u001b[0;34m)\u001b[0m\u001b[0;34m\u001b[0m\u001b[0;34m\u001b[0m\u001b[0m\n\u001b[0m\u001b[1;32m     16\u001b[0m \u001b[0mmodel\u001b[0m\u001b[0;34m.\u001b[0m\u001b[0msummary\u001b[0m\u001b[0;34m(\u001b[0m\u001b[0;34m)\u001b[0m\u001b[0;34m\u001b[0m\u001b[0;34m\u001b[0m\u001b[0m\n",
      "\u001b[0;32m<ipython-input-21-a15f92ca77c1>\u001b[0m in \u001b[0;36mbuild_model\u001b[0;34m()\u001b[0m\n\u001b[1;32m      7\u001b[0m     model = keras.Sequential([\n\u001b[1;32m      8\u001b[0m         \u001b[0mlayers\u001b[0m\u001b[0;34m.\u001b[0m\u001b[0mDense\u001b[0m\u001b[0;34m(\u001b[0m\u001b[0;36m1\u001b[0m\u001b[0;34m,\u001b[0m \u001b[0mactivation\u001b[0m\u001b[0;34m=\u001b[0m\u001b[0;34m'linear'\u001b[0m \u001b[0;34m,\u001b[0m\u001b[0minput_shape\u001b[0m\u001b[0;34m=\u001b[0m\u001b[0;34m[\u001b[0m\u001b[0mD\u001b[0m\u001b[0;34m]\u001b[0m\u001b[0;34m)\u001b[0m\u001b[0;34m,\u001b[0m\u001b[0;34m\u001b[0m\u001b[0;34m\u001b[0m\u001b[0m\n\u001b[0;32m----> 9\u001b[0;31m         \u001b[0mtfp\u001b[0m\u001b[0;34m.\u001b[0m\u001b[0mlayers\u001b[0m\u001b[0;34m.\u001b[0m\u001b[0mDistributionLambda\u001b[0m\u001b[0;34m(\u001b[0m\u001b[0;32mlambda\u001b[0m \u001b[0mt\u001b[0m\u001b[0;34m:\u001b[0m \u001b[0mtfd\u001b[0m\u001b[0;34m.\u001b[0m\u001b[0mNormal\u001b[0m\u001b[0;34m(\u001b[0m\u001b[0mloc\u001b[0m\u001b[0;34m=\u001b[0m\u001b[0;34m[\u001b[0m\u001b[0;34m...\u001b[0m\u001b[0;34m,\u001b[0m \u001b[0mt\u001b[0m\u001b[0;34m]\u001b[0m\u001b[0;34m,\u001b[0m \u001b[0mscale\u001b[0m\u001b[0;34m=\u001b[0m\u001b[0;36m1\u001b[0m\u001b[0;34m)\u001b[0m\u001b[0;34m)\u001b[0m\u001b[0;34m\u001b[0m\u001b[0;34m\u001b[0m\u001b[0m\n\u001b[0m\u001b[1;32m     10\u001b[0m     ])\n\u001b[1;32m     11\u001b[0m \u001b[0;34m\u001b[0m\u001b[0m\n",
      "\u001b[0;32m~/.local/lib/python3.6/site-packages/tensorflow_core/python/training/tracking/base.py\u001b[0m in \u001b[0;36m_method_wrapper\u001b[0;34m(self, *args, **kwargs)\u001b[0m\n\u001b[1;32m    455\u001b[0m     \u001b[0mself\u001b[0m\u001b[0;34m.\u001b[0m\u001b[0m_self_setattr_tracking\u001b[0m \u001b[0;34m=\u001b[0m \u001b[0;32mFalse\u001b[0m  \u001b[0;31m# pylint: disable=protected-access\u001b[0m\u001b[0;34m\u001b[0m\u001b[0;34m\u001b[0m\u001b[0m\n\u001b[1;32m    456\u001b[0m     \u001b[0;32mtry\u001b[0m\u001b[0;34m:\u001b[0m\u001b[0;34m\u001b[0m\u001b[0;34m\u001b[0m\u001b[0m\n\u001b[0;32m--> 457\u001b[0;31m       \u001b[0mresult\u001b[0m \u001b[0;34m=\u001b[0m \u001b[0mmethod\u001b[0m\u001b[0;34m(\u001b[0m\u001b[0mself\u001b[0m\u001b[0;34m,\u001b[0m \u001b[0;34m*\u001b[0m\u001b[0margs\u001b[0m\u001b[0;34m,\u001b[0m \u001b[0;34m**\u001b[0m\u001b[0mkwargs\u001b[0m\u001b[0;34m)\u001b[0m\u001b[0;34m\u001b[0m\u001b[0;34m\u001b[0m\u001b[0m\n\u001b[0m\u001b[1;32m    458\u001b[0m     \u001b[0;32mfinally\u001b[0m\u001b[0;34m:\u001b[0m\u001b[0;34m\u001b[0m\u001b[0;34m\u001b[0m\u001b[0m\n\u001b[1;32m    459\u001b[0m       \u001b[0mself\u001b[0m\u001b[0;34m.\u001b[0m\u001b[0m_self_setattr_tracking\u001b[0m \u001b[0;34m=\u001b[0m \u001b[0mprevious_value\u001b[0m  \u001b[0;31m# pylint: disable=protected-access\u001b[0m\u001b[0;34m\u001b[0m\u001b[0;34m\u001b[0m\u001b[0m\n",
      "\u001b[0;32m~/.local/lib/python3.6/site-packages/tensorflow_core/python/keras/engine/sequential.py\u001b[0m in \u001b[0;36m__init__\u001b[0;34m(self, layers, name)\u001b[0m\n\u001b[1;32m    114\u001b[0m       \u001b[0mtf_utils\u001b[0m\u001b[0;34m.\u001b[0m\u001b[0massert_no_legacy_layers\u001b[0m\u001b[0;34m(\u001b[0m\u001b[0mlayers\u001b[0m\u001b[0;34m)\u001b[0m\u001b[0;34m\u001b[0m\u001b[0;34m\u001b[0m\u001b[0m\n\u001b[1;32m    115\u001b[0m       \u001b[0;32mfor\u001b[0m \u001b[0mlayer\u001b[0m \u001b[0;32min\u001b[0m \u001b[0mlayers\u001b[0m\u001b[0;34m:\u001b[0m\u001b[0;34m\u001b[0m\u001b[0;34m\u001b[0m\u001b[0m\n\u001b[0;32m--> 116\u001b[0;31m         \u001b[0mself\u001b[0m\u001b[0;34m.\u001b[0m\u001b[0madd\u001b[0m\u001b[0;34m(\u001b[0m\u001b[0mlayer\u001b[0m\u001b[0;34m)\u001b[0m\u001b[0;34m\u001b[0m\u001b[0;34m\u001b[0m\u001b[0m\n\u001b[0m\u001b[1;32m    117\u001b[0m \u001b[0;34m\u001b[0m\u001b[0m\n\u001b[1;32m    118\u001b[0m   \u001b[0;34m@\u001b[0m\u001b[0mproperty\u001b[0m\u001b[0;34m\u001b[0m\u001b[0;34m\u001b[0m\u001b[0m\n",
      "\u001b[0;32m~/.local/lib/python3.6/site-packages/tensorflow_core/python/training/tracking/base.py\u001b[0m in \u001b[0;36m_method_wrapper\u001b[0;34m(self, *args, **kwargs)\u001b[0m\n\u001b[1;32m    455\u001b[0m     \u001b[0mself\u001b[0m\u001b[0;34m.\u001b[0m\u001b[0m_self_setattr_tracking\u001b[0m \u001b[0;34m=\u001b[0m \u001b[0;32mFalse\u001b[0m  \u001b[0;31m# pylint: disable=protected-access\u001b[0m\u001b[0;34m\u001b[0m\u001b[0;34m\u001b[0m\u001b[0m\n\u001b[1;32m    456\u001b[0m     \u001b[0;32mtry\u001b[0m\u001b[0;34m:\u001b[0m\u001b[0;34m\u001b[0m\u001b[0;34m\u001b[0m\u001b[0m\n\u001b[0;32m--> 457\u001b[0;31m       \u001b[0mresult\u001b[0m \u001b[0;34m=\u001b[0m \u001b[0mmethod\u001b[0m\u001b[0;34m(\u001b[0m\u001b[0mself\u001b[0m\u001b[0;34m,\u001b[0m \u001b[0;34m*\u001b[0m\u001b[0margs\u001b[0m\u001b[0;34m,\u001b[0m \u001b[0;34m**\u001b[0m\u001b[0mkwargs\u001b[0m\u001b[0;34m)\u001b[0m\u001b[0;34m\u001b[0m\u001b[0;34m\u001b[0m\u001b[0m\n\u001b[0m\u001b[1;32m    458\u001b[0m     \u001b[0;32mfinally\u001b[0m\u001b[0;34m:\u001b[0m\u001b[0;34m\u001b[0m\u001b[0;34m\u001b[0m\u001b[0m\n\u001b[1;32m    459\u001b[0m       \u001b[0mself\u001b[0m\u001b[0;34m.\u001b[0m\u001b[0m_self_setattr_tracking\u001b[0m \u001b[0;34m=\u001b[0m \u001b[0mprevious_value\u001b[0m  \u001b[0;31m# pylint: disable=protected-access\u001b[0m\u001b[0;34m\u001b[0m\u001b[0;34m\u001b[0m\u001b[0m\n",
      "\u001b[0;32m~/.local/lib/python3.6/site-packages/tensorflow_core/python/keras/engine/sequential.py\u001b[0m in \u001b[0;36madd\u001b[0;34m(self, layer)\u001b[0m\n\u001b[1;32m    201\u001b[0m       \u001b[0;31m# If the model is being built continuously on top of an input layer:\u001b[0m\u001b[0;34m\u001b[0m\u001b[0;34m\u001b[0m\u001b[0;34m\u001b[0m\u001b[0m\n\u001b[1;32m    202\u001b[0m       \u001b[0;31m# refresh its output.\u001b[0m\u001b[0;34m\u001b[0m\u001b[0;34m\u001b[0m\u001b[0;34m\u001b[0m\u001b[0m\n\u001b[0;32m--> 203\u001b[0;31m       \u001b[0moutput_tensor\u001b[0m \u001b[0;34m=\u001b[0m \u001b[0mlayer\u001b[0m\u001b[0;34m(\u001b[0m\u001b[0mself\u001b[0m\u001b[0;34m.\u001b[0m\u001b[0moutputs\u001b[0m\u001b[0;34m[\u001b[0m\u001b[0;36m0\u001b[0m\u001b[0;34m]\u001b[0m\u001b[0;34m)\u001b[0m\u001b[0;34m\u001b[0m\u001b[0;34m\u001b[0m\u001b[0m\n\u001b[0m\u001b[1;32m    204\u001b[0m       \u001b[0;32mif\u001b[0m \u001b[0mlen\u001b[0m\u001b[0;34m(\u001b[0m\u001b[0mnest\u001b[0m\u001b[0;34m.\u001b[0m\u001b[0mflatten\u001b[0m\u001b[0;34m(\u001b[0m\u001b[0moutput_tensor\u001b[0m\u001b[0;34m)\u001b[0m\u001b[0;34m)\u001b[0m \u001b[0;34m!=\u001b[0m \u001b[0;36m1\u001b[0m\u001b[0;34m:\u001b[0m\u001b[0;34m\u001b[0m\u001b[0;34m\u001b[0m\u001b[0m\n\u001b[1;32m    205\u001b[0m         raise TypeError('All layers in a Sequential model '\n",
      "\u001b[0;32m~/.local/lib/python3.6/site-packages/tensorflow_probability/python/layers/distribution_layer.py\u001b[0m in \u001b[0;36m__call__\u001b[0;34m(self, inputs, *args, **kwargs)\u001b[0m\n\u001b[1;32m    243\u001b[0m     \u001b[0mself\u001b[0m\u001b[0;34m.\u001b[0m\u001b[0m_enter_dunder_call\u001b[0m \u001b[0;34m=\u001b[0m \u001b[0;32mTrue\u001b[0m\u001b[0;34m\u001b[0m\u001b[0;34m\u001b[0m\u001b[0m\n\u001b[1;32m    244\u001b[0m     distribution, _ = super(DistributionLambda, self).__call__(\n\u001b[0;32m--> 245\u001b[0;31m         inputs, *args, **kwargs)\n\u001b[0m\u001b[1;32m    246\u001b[0m     \u001b[0mself\u001b[0m\u001b[0;34m.\u001b[0m\u001b[0m_enter_dunder_call\u001b[0m \u001b[0;34m=\u001b[0m \u001b[0;32mFalse\u001b[0m\u001b[0;34m\u001b[0m\u001b[0;34m\u001b[0m\u001b[0m\n\u001b[1;32m    247\u001b[0m     \u001b[0;32mreturn\u001b[0m \u001b[0mdistribution\u001b[0m\u001b[0;34m\u001b[0m\u001b[0;34m\u001b[0m\u001b[0m\n",
      "\u001b[0;32m~/.local/lib/python3.6/site-packages/tensorflow_core/python/keras/engine/base_layer.py\u001b[0m in \u001b[0;36m__call__\u001b[0;34m(self, inputs, *args, **kwargs)\u001b[0m\n\u001b[1;32m    771\u001b[0m                     not base_layer_utils.is_in_eager_or_tf_function()):\n\u001b[1;32m    772\u001b[0m                   \u001b[0;32mwith\u001b[0m \u001b[0mauto_control_deps\u001b[0m\u001b[0;34m.\u001b[0m\u001b[0mAutomaticControlDependencies\u001b[0m\u001b[0;34m(\u001b[0m\u001b[0;34m)\u001b[0m \u001b[0;32mas\u001b[0m \u001b[0macd\u001b[0m\u001b[0;34m:\u001b[0m\u001b[0;34m\u001b[0m\u001b[0;34m\u001b[0m\u001b[0m\n\u001b[0;32m--> 773\u001b[0;31m                     \u001b[0moutputs\u001b[0m \u001b[0;34m=\u001b[0m \u001b[0mcall_fn\u001b[0m\u001b[0;34m(\u001b[0m\u001b[0mcast_inputs\u001b[0m\u001b[0;34m,\u001b[0m \u001b[0;34m*\u001b[0m\u001b[0margs\u001b[0m\u001b[0;34m,\u001b[0m \u001b[0;34m**\u001b[0m\u001b[0mkwargs\u001b[0m\u001b[0;34m)\u001b[0m\u001b[0;34m\u001b[0m\u001b[0;34m\u001b[0m\u001b[0m\n\u001b[0m\u001b[1;32m    774\u001b[0m                     \u001b[0;31m# Wrap Tensors in `outputs` in `tf.identity` to avoid\u001b[0m\u001b[0;34m\u001b[0m\u001b[0;34m\u001b[0m\u001b[0;34m\u001b[0m\u001b[0m\n\u001b[1;32m    775\u001b[0m                     \u001b[0;31m# circular dependencies.\u001b[0m\u001b[0;34m\u001b[0m\u001b[0;34m\u001b[0m\u001b[0;34m\u001b[0m\u001b[0m\n",
      "\u001b[0;32m~/.local/lib/python3.6/site-packages/tensorflow_core/python/autograph/impl/api.py\u001b[0m in \u001b[0;36mwrapper\u001b[0;34m(*args, **kwargs)\u001b[0m\n\u001b[1;32m    235\u001b[0m       \u001b[0;32mexcept\u001b[0m \u001b[0mException\u001b[0m \u001b[0;32mas\u001b[0m \u001b[0me\u001b[0m\u001b[0;34m:\u001b[0m  \u001b[0;31m# pylint:disable=broad-except\u001b[0m\u001b[0;34m\u001b[0m\u001b[0;34m\u001b[0m\u001b[0m\n\u001b[1;32m    236\u001b[0m         \u001b[0;32mif\u001b[0m \u001b[0mhasattr\u001b[0m\u001b[0;34m(\u001b[0m\u001b[0me\u001b[0m\u001b[0;34m,\u001b[0m \u001b[0;34m'ag_error_metadata'\u001b[0m\u001b[0;34m)\u001b[0m\u001b[0;34m:\u001b[0m\u001b[0;34m\u001b[0m\u001b[0;34m\u001b[0m\u001b[0m\n\u001b[0;32m--> 237\u001b[0;31m           \u001b[0;32mraise\u001b[0m \u001b[0me\u001b[0m\u001b[0;34m.\u001b[0m\u001b[0mag_error_metadata\u001b[0m\u001b[0;34m.\u001b[0m\u001b[0mto_exception\u001b[0m\u001b[0;34m(\u001b[0m\u001b[0me\u001b[0m\u001b[0;34m)\u001b[0m\u001b[0;34m\u001b[0m\u001b[0;34m\u001b[0m\u001b[0m\n\u001b[0m\u001b[1;32m    238\u001b[0m         \u001b[0;32melse\u001b[0m\u001b[0;34m:\u001b[0m\u001b[0;34m\u001b[0m\u001b[0;34m\u001b[0m\u001b[0m\n\u001b[1;32m    239\u001b[0m           \u001b[0;32mraise\u001b[0m\u001b[0;34m\u001b[0m\u001b[0;34m\u001b[0m\u001b[0m\n",
      "\u001b[0;31mTypeError\u001b[0m: in converted code:\n\n    /home/viktor/.local/lib/python3.6/site-packages/tensorflow_probability/python/layers/distribution_layer.py:251 call\n        inputs, *args, **kwargs)\n    /home/viktor/.local/lib/python3.6/site-packages/tensorflow_core/python/keras/layers/core.py:846 call\n        result = self.function(inputs, **kwargs)\n    /home/viktor/.local/lib/python3.6/site-packages/tensorflow_probability/python/layers/distribution_layer.py:171 _fn\n        d = make_distribution_fn(*fargs, **fkwargs)\n    <ipython-input-21-a15f92ca77c1>:9 <lambda>\n        tfp.layers.DistributionLambda(lambda t: tfd.Normal(loc=[..., t], scale=1))\n    </home/viktor/.local/lib/python3.6/site-packages/decorator.py:decorator-gen-239>:2 __init__\n        \n    /home/viktor/.local/lib/python3.6/site-packages/tensorflow_probability/python/distributions/distribution.py:284 wrapped_init\n        default_init(self_, *args, **kwargs)\n    /home/viktor/.local/lib/python3.6/site-packages/tensorflow_probability/python/distributions/normal.py:138 __init__\n        loc, dtype=dtype, name='loc')\n    /home/viktor/.local/lib/python3.6/site-packages/tensorflow_probability/python/internal/tensor_util.py:115 convert_nonref_to_tensor\n        value, dtype=dtype, dtype_hint=dtype_hint, name=name)\n    /home/viktor/.local/lib/python3.6/site-packages/tensorflow_core/python/framework/ops.py:1256 convert_to_tensor_v2\n        as_ref=False)\n    /home/viktor/.local/lib/python3.6/site-packages/tensorflow_core/python/framework/ops.py:1314 convert_to_tensor\n        ret = conversion_func(value, dtype=dtype, name=name, as_ref=as_ref)\n    /home/viktor/.local/lib/python3.6/site-packages/tensorflow_core/python/ops/array_ops.py:1368 _autopacking_conversion_function\n        return _autopacking_helper(v, dtype, name or \"packed\")\n    /home/viktor/.local/lib/python3.6/site-packages/tensorflow_core/python/ops/array_ops.py:1303 _autopacking_helper\n        constant_op.constant(elem, dtype=dtype, name=str(i)))\n    /home/viktor/.local/lib/python3.6/site-packages/tensorflow_core/python/framework/constant_op.py:258 constant\n        allow_broadcast=True)\n    /home/viktor/.local/lib/python3.6/site-packages/tensorflow_core/python/framework/constant_op.py:296 _constant_impl\n        allow_broadcast=allow_broadcast))\n    /home/viktor/.local/lib/python3.6/site-packages/tensorflow_core/python/framework/tensor_util.py:451 make_tensor_proto\n        _AssertCompatible(values, dtype)\n    /home/viktor/.local/lib/python3.6/site-packages/tensorflow_core/python/framework/tensor_util.py:331 _AssertCompatible\n        (dtype.name, repr(mismatch), type(mismatch).__name__))\n\n    TypeError: Expected float32, got Ellipsis of type 'ellipsis' instead.\n"
     ]
    }
   ],
   "source": [
    "import tensorflow_probability as tfp\n",
    "from tensorflow import keras\n",
    "from tensorflow.keras import layers\n",
    "\n",
    "def build_model():\n",
    "    \"\"\"Regularization via kernel and bias regularizer\"\"\"\n",
    "    model = keras.Sequential([\n",
    "        layers.Dense(1, activation='linear' ,input_shape=[D]), \n",
    "        tfp.layers.DistributionLambda(lambda t: tfd.Normal(loc=[..., t], scale=1)) \n",
    "    ])\n",
    "    \n",
    "    model.compile()\n",
    "    return model\n",
    "\n",
    "model = build_model()\n",
    "model.summary()"
   ]
  },
  {
   "cell_type": "markdown",
   "metadata": {},
   "source": [
    "# Using the estimator API\n",
    "* within the estimator API the number of training steps is controlled via the the `dataset`\n",
    "* more precisely via the `repeat` keyword"
   ]
  },
  {
   "cell_type": "markdown",
   "metadata": {},
   "source": [
    "# Sklearn "
   ]
  },
  {
   "cell_type": "markdown",
   "metadata": {},
   "source": [
    "# Comparision of results"
   ]
  }
 ],
 "metadata": {
  "kernelspec": {
   "display_name": "Python 3",
   "language": "python",
   "name": "python3"
  },
  "language_info": {
   "codemirror_mode": {
    "name": "ipython",
    "version": 3
   },
   "file_extension": ".py",
   "mimetype": "text/x-python",
   "name": "python",
   "nbconvert_exporter": "python",
   "pygments_lexer": "ipython3",
   "version": "3.6.9"
  }
 },
 "nbformat": 4,
 "nbformat_minor": 4
}
